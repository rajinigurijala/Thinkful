{
 "cells": [
  {
   "cell_type": "code",
   "execution_count": 23,
   "metadata": {},
   "outputs": [
    {
     "name": "stdout",
     "output_type": "stream",
     "text": [
      "Mean = 9.857142857142858\n",
      "Median = 10.0\n",
      "Mode = 8\n",
      "Variance:  6.408163265306122\n",
      "Std. Deviation = 2.531435020952764\n",
      "Std. Error = 1.0334540197243194\n",
      "[14, 12, 11, 10, 8, 6, 8]\n"
     ]
    }
   ],
   "source": [
    "import numpy as np\n",
    "import statistics\n",
    "def printstats(ages):\n",
    "    print(\"Mean =\",np.mean(ages))\n",
    "    print(\"Median =\",np.median(ages))\n",
    "    try:\n",
    "        print(\"Mode =\",statistics.mode(ages))\n",
    "    except:\n",
    "        print(\"No mode\")\n",
    "        \n",
    "    print(\"Variance: \",np.var(ages))\n",
    "    print(\"Std. Deviation =\",np.std(ages))\n",
    "    print(\"Std. Error =\",np.std(ages)/np.sqrt(len(ages)-1))\n",
    "    \n",
    "ages =[14,12,11,10,8,6,8]\n",
    "printstats(ages)\n",
    "print(ages)\n"
   ]
  },
  {
   "cell_type": "code",
   "execution_count": 17,
   "metadata": {},
   "outputs": [],
   "source": [
    "#I will choose Mean and Std. Deviation. Mean is the center value for the 3 central tendencies. \n",
    "#And The Std Deviation since the Std Error is low."
   ]
  },
  {
   "cell_type": "code",
   "execution_count": 24,
   "metadata": {},
   "outputs": [
    {
     "name": "stdout",
     "output_type": "stream",
     "text": [
      "Mean = 10.0\n",
      "Median = 10.0\n",
      "Mode = 8\n",
      "Variance:  5.428571428571429\n",
      "Std. Deviation = 2.32992949004287\n",
      "Std. Error = 0.951189731211342\n",
      "[14, 12, 11, 10, 8, 7, 8]\n"
     ]
    }
   ],
   "source": [
    "ages2 =[14,12,11,10,8,7,8]\n",
    "printstats(ages2)\n",
    "print(ages2)\n"
   ]
  },
  {
   "cell_type": "code",
   "execution_count": 25,
   "metadata": {},
   "outputs": [
    {
     "name": "stdout",
     "output_type": "stream",
     "text": [
      "Mean = 9.0\n",
      "Median = 10.0\n",
      "No mode\n",
      "Variance:  15.428571428571429\n",
      "Std. Deviation = 3.927922024247863\n",
      "Std. Error = 1.6035674514745466\n",
      "[14, 12, 11, 10, 8, 7, 1]\n"
     ]
    }
   ],
   "source": [
    "ages3 =[14,12,11,10,8,7,1]\n",
    "printstats(ages3)\n",
    "print(ages3)"
   ]
  },
  {
   "cell_type": "code",
   "execution_count": 26,
   "metadata": {},
   "outputs": [
    {
     "name": "stdout",
     "output_type": "stream",
     "text": [
      "Mean = 16.25\n",
      "Median = 18.5\n",
      "No mode\n",
      "Variance:  46.6875\n",
      "Std. Deviation = 6.832825184358224\n",
      "Std. Error = 3.9449334595148753\n",
      "[20, 23, 17, 5]\n"
     ]
    }
   ],
   "source": [
    "poll=[20,23,17,5]\n",
    "printstats(poll)\n",
    "print(poll)"
   ]
  },
  {
   "cell_type": "code",
   "execution_count": 28,
   "metadata": {},
   "outputs": [
    {
     "name": "stdout",
     "output_type": "stream",
     "text": [
      "Mean = 20.0\n",
      "Median = 20.0\n",
      "No mode\n",
      "Variance:  6.0\n",
      "Std. Deviation = 2.449489742783178\n",
      "Std. Error = 1.732050807568877\n",
      "[20, 23, 17]\n"
     ]
    }
   ],
   "source": [
    "poll=[20,23,17]\n",
    "printstats(poll)\n",
    "print(poll)"
   ]
  },
  {
   "cell_type": "code",
   "execution_count": 30,
   "metadata": {},
   "outputs": [],
   "source": [
    "# 20% were fans as there is lower variance"
   ]
  },
  {
   "cell_type": "code",
   "execution_count": null,
   "metadata": {},
   "outputs": [],
   "source": []
  }
 ],
 "metadata": {
  "kernelspec": {
   "display_name": "Python 3",
   "language": "python",
   "name": "python3"
  },
  "language_info": {
   "codemirror_mode": {
    "name": "ipython",
    "version": 3
   },
   "file_extension": ".py",
   "mimetype": "text/x-python",
   "name": "python",
   "nbconvert_exporter": "python",
   "pygments_lexer": "ipython3",
   "version": "3.7.3"
  }
 },
 "nbformat": 4,
 "nbformat_minor": 2
}
