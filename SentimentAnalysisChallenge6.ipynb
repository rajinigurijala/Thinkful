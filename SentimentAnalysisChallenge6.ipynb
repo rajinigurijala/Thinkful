{
 "cells": [
  {
   "cell_type": "code",
   "execution_count": 1,
   "metadata": {},
   "outputs": [],
   "source": [
    "%matplotlib inline\n",
    "import matplotlib.pyplot as plt\n",
    "import numpy as np\n",
    "import os\n",
    "import pandas as pd\n",
    "import scipy\n",
    "from sklearn.naive_bayes import BernoulliNB\n",
    "import seaborn as sns"
   ]
  },
  {
   "cell_type": "markdown",
   "metadata": {},
   "source": [
    "Let us classify Amazon reviews based on training IMDB reviews. Load the *imdb_labelled.txt* file into the dataframe imdb:"
   ]
  },
  {
   "cell_type": "code",
   "execution_count": 2,
   "metadata": {},
   "outputs": [
    {
     "data": {
      "text/html": [
       "<div>\n",
       "<style scoped>\n",
       "    .dataframe tbody tr th:only-of-type {\n",
       "        vertical-align: middle;\n",
       "    }\n",
       "\n",
       "    .dataframe tbody tr th {\n",
       "        vertical-align: top;\n",
       "    }\n",
       "\n",
       "    .dataframe thead th {\n",
       "        text-align: right;\n",
       "    }\n",
       "</style>\n",
       "<table border=\"1\" class=\"dataframe\">\n",
       "  <thead>\n",
       "    <tr style=\"text-align: right;\">\n",
       "      <th></th>\n",
       "      <th>text</th>\n",
       "      <th>sentiment</th>\n",
       "    </tr>\n",
       "  </thead>\n",
       "  <tbody>\n",
       "    <tr>\n",
       "      <th>0</th>\n",
       "      <td>A very, very, very slow-moving, aimless movie ...</td>\n",
       "      <td>0</td>\n",
       "    </tr>\n",
       "    <tr>\n",
       "      <th>1</th>\n",
       "      <td>Not sure who was more lost - the flat characte...</td>\n",
       "      <td>0</td>\n",
       "    </tr>\n",
       "    <tr>\n",
       "      <th>2</th>\n",
       "      <td>Attempting artiness with black &amp; white and cle...</td>\n",
       "      <td>0</td>\n",
       "    </tr>\n",
       "    <tr>\n",
       "      <th>3</th>\n",
       "      <td>Very little music or anything to speak of.</td>\n",
       "      <td>0</td>\n",
       "    </tr>\n",
       "    <tr>\n",
       "      <th>4</th>\n",
       "      <td>The best scene in the movie was when Gerardo i...</td>\n",
       "      <td>1</td>\n",
       "    </tr>\n",
       "  </tbody>\n",
       "</table>\n",
       "</div>"
      ],
      "text/plain": [
       "                                                text  sentiment\n",
       "0  A very, very, very slow-moving, aimless movie ...          0\n",
       "1  Not sure who was more lost - the flat characte...          0\n",
       "2  Attempting artiness with black & white and cle...          0\n",
       "3       Very little music or anything to speak of.            0\n",
       "4  The best scene in the movie was when Gerardo i...          1"
      ]
     },
     "execution_count": 2,
     "metadata": {},
     "output_type": "execute_result"
    }
   ],
   "source": [
    "imdb = pd.read_csv(r'sentiment labelled sentences\\imdb_labelled.txt', delimiter= '\\t', header=None)\n",
    "imdb.columns = ['text', 'sentiment']\n",
    "imdb.head()"
   ]
  },
  {
   "cell_type": "markdown",
   "metadata": {},
   "source": [
    "# Data Preparation"
   ]
  },
  {
   "cell_type": "markdown",
   "metadata": {},
   "source": [
    "Load positive words file, from https://gist.github.com/mkulakowski2/4289437:"
   ]
  },
  {
   "cell_type": "code",
   "execution_count": 3,
   "metadata": {
    "scrolled": false
   },
   "outputs": [
    {
     "data": {
      "text/plain": [
       "2008"
      ]
     },
     "execution_count": 3,
     "metadata": {},
     "output_type": "execute_result"
    }
   ],
   "source": [
    "# load it\n",
    "with open('positive-words.txt','r') as file:\n",
    "    positive = file.read()\n",
    "\n",
    "\n",
    "# remove description and empty elements\n",
    "positive = positive[positive.rfind(';')+1:]\n",
    "positive = positive.split('\\n')\n",
    "\n",
    "for i in range(positive.count('')):\n",
    "    positive.remove('')\n",
    "\n",
    "# add a couple of positive words    \n",
    "positive.append('cool')\n",
    "positive.append('decent')\n",
    "    \n",
    "len(positive)"
   ]
  },
  {
   "cell_type": "markdown",
   "metadata": {},
   "source": [
    "Load stop words file:"
   ]
  },
  {
   "cell_type": "code",
   "execution_count": 4,
   "metadata": {},
   "outputs": [],
   "source": [
    "# load list of stop words\n",
    "with open('stop_words.txt','r') as file:\n",
    "    stop = file.read()\n",
    "stop = stop.split('\\n')"
   ]
  },
  {
   "cell_type": "markdown",
   "metadata": {},
   "source": [
    "Load negative words file, from http://ptrckprry.com/course/ssd/data/negative-words.txt:"
   ]
  },
  {
   "cell_type": "code",
   "execution_count": 5,
   "metadata": {},
   "outputs": [
    {
     "data": {
      "text/plain": [
       "4783"
      ]
     },
     "execution_count": 5,
     "metadata": {},
     "output_type": "execute_result"
    }
   ],
   "source": [
    "with open('negative-words.txt','r') as file:\n",
    "    negative = file.read()\n",
    "\n",
    "\n",
    "# remove description and empty elements\n",
    "negative = negative[negative.rfind(';')+1:]\n",
    "negative = negative.split('\\n')\n",
    "\n",
    "for i in range(negative.count('')):\n",
    "    negative.remove('')\n",
    "\n",
    "len(negative)"
   ]
  },
  {
   "cell_type": "markdown",
   "metadata": {},
   "source": [
    "#### Data Cleaning ####"
   ]
  },
  {
   "cell_type": "code",
   "execution_count": 6,
   "metadata": {},
   "outputs": [],
   "source": [
    "# Prepare a translation table from punctuation\n",
    "punctuation = ''.join(['.',',',';',':','-','?','!'])\n",
    "TRANSDICT = str.maketrans(punctuation,' '*len(punctuation))\n",
    "\n",
    "def remove_punctuation(word):\n",
    "    \"\"\" removes punctuation from a word\"\"\"\n",
    "    return word.translate(TRANSDICT).strip().replace(' ','')\n",
    "\n",
    "\n",
    "def percent_positive(review):\n",
    "    \"\"\" Tokenizes each sentence, checks for membership in positive words,\n",
    "        makes sure positive words are not preceded by 'not'\n",
    "    \"\"\"\n",
    "    \n",
    "    # tokenize a sentence and remove punctuation\n",
    "    tokenized = review.lower().split(' ')\n",
    "    tokenized = [remove_punctuation(word) for word in tokenized]\n",
    "    pcnt = 0\n",
    "    \n",
    "    # check for membership in poitive words list, making sure 'not' doesn't precede\n",
    "    for word in tokenized:\n",
    "        if tokenized.index(word) == 0 and (word in positive):\n",
    "            pcnt += 1/len(tokenized)\n",
    "        elif tokenized.index(word) == 1:\n",
    "            if word in positive and (tokenized[tokenized.index(word)-1] != 'not'):\n",
    "                pcnt += 1/len(tokenized)\n",
    "        elif tokenized.index(word) > 1:\n",
    "            if word in positive and (tokenized[tokenized.index(word)-1] != 'not') and (tokenized[tokenized.index(word)-2] != 'not'):\n",
    "                pcnt += 1/len(tokenized)\n",
    "    return pcnt\n",
    "\n",
    "# Apply percent_positive to the text column in our dataframe\n",
    "imdb['positive'] = imdb['text'].apply(percent_positive)"
   ]
  },
  {
   "cell_type": "code",
   "execution_count": 7,
   "metadata": {},
   "outputs": [],
   "source": [
    "def percent_negative(review):\n",
    "    \"\"\" Tokenizes each sentence, checks for membership in positive words,\n",
    "        makes sure positive words are not perceded by 'not'\n",
    "    \"\"\"\n",
    "    \n",
    "    # tokenize a sentence and remove punctuation\n",
    "    tokenized = review.lower().split(' ')\n",
    "    tokenized = [remove_punctuation(word) for word in tokenized]\n",
    "    pcnt = 0\n",
    "    \n",
    "    # check for membership in negative words list, making sure 'not' doesn't precede\n",
    "    for word in tokenized:\n",
    "        if tokenized.index(word) == 0 and word in negative:\n",
    "            pcnt += 1/len(tokenized)\n",
    "        elif tokenized.index(word) == 1:\n",
    "            if word in negative and (tokenized[tokenized.index(word)-1] != 'not'):\n",
    "                pcnt += 1/len(tokenized)\n",
    "        elif tokenized.index(word) > 1:\n",
    "            if word in negative and (tokenized[tokenized.index(word)-1] != 'not') and (tokenized[tokenized.index(word)-2] != 'not'):\n",
    "                pcnt += 1/len(tokenized)\n",
    "    return pcnt\n",
    "\n",
    "# Apply percent_negative to the text column in our dataframe\n",
    "imdb['negative'] = imdb['text'].apply(percent_negative)"
   ]
  },
  {
   "cell_type": "code",
   "execution_count": 8,
   "metadata": {},
   "outputs": [
    {
     "data": {
      "text/html": [
       "<div>\n",
       "<style scoped>\n",
       "    .dataframe tbody tr th:only-of-type {\n",
       "        vertical-align: middle;\n",
       "    }\n",
       "\n",
       "    .dataframe tbody tr th {\n",
       "        vertical-align: top;\n",
       "    }\n",
       "\n",
       "    .dataframe thead th {\n",
       "        text-align: right;\n",
       "    }\n",
       "</style>\n",
       "<table border=\"1\" class=\"dataframe\">\n",
       "  <thead>\n",
       "    <tr style=\"text-align: right;\">\n",
       "      <th></th>\n",
       "      <th>text</th>\n",
       "      <th>sentiment</th>\n",
       "      <th>positive</th>\n",
       "      <th>negative</th>\n",
       "    </tr>\n",
       "  </thead>\n",
       "  <tbody>\n",
       "    <tr>\n",
       "      <th>499</th>\n",
       "      <td>It's a mediocre, miserable, hollow, laughable ...</td>\n",
       "      <td>0</td>\n",
       "      <td>0.0</td>\n",
       "      <td>0.384615</td>\n",
       "    </tr>\n",
       "    <tr>\n",
       "      <th>101</th>\n",
       "      <td>Awful.</td>\n",
       "      <td>0</td>\n",
       "      <td>0.0</td>\n",
       "      <td>0.333333</td>\n",
       "    </tr>\n",
       "    <tr>\n",
       "      <th>94</th>\n",
       "      <td>Horrible!</td>\n",
       "      <td>0</td>\n",
       "      <td>0.0</td>\n",
       "      <td>0.333333</td>\n",
       "    </tr>\n",
       "    <tr>\n",
       "      <th>671</th>\n",
       "      <td>Bad characters, bad story and bad acting.</td>\n",
       "      <td>0</td>\n",
       "      <td>0.0</td>\n",
       "      <td>0.333333</td>\n",
       "    </tr>\n",
       "    <tr>\n",
       "      <th>725</th>\n",
       "      <td>Instead, we got a bore fest about a whiny, spo...</td>\n",
       "      <td>0</td>\n",
       "      <td>0.0</td>\n",
       "      <td>0.285714</td>\n",
       "    </tr>\n",
       "  </tbody>\n",
       "</table>\n",
       "</div>"
      ],
      "text/plain": [
       "                                                  text  sentiment  positive  \\\n",
       "499  It's a mediocre, miserable, hollow, laughable ...          0       0.0   \n",
       "101                                           Awful.            0       0.0   \n",
       "94                                         Horrible!            0       0.0   \n",
       "671        Bad characters, bad story and bad acting.            0       0.0   \n",
       "725  Instead, we got a bore fest about a whiny, spo...          0       0.0   \n",
       "\n",
       "     negative  \n",
       "499  0.384615  \n",
       "101  0.333333  \n",
       "94   0.333333  \n",
       "671  0.333333  \n",
       "725  0.285714  "
      ]
     },
     "execution_count": 8,
     "metadata": {},
     "output_type": "execute_result"
    }
   ],
   "source": [
    "# Sort values by most negative first\n",
    "imdb.sort_values(by=['negative'],ascending=False).head()"
   ]
  },
  {
   "cell_type": "code",
   "execution_count": 9,
   "metadata": {},
   "outputs": [
    {
     "data": {
      "text/html": [
       "<div>\n",
       "<style scoped>\n",
       "    .dataframe tbody tr th:only-of-type {\n",
       "        vertical-align: middle;\n",
       "    }\n",
       "\n",
       "    .dataframe tbody tr th {\n",
       "        vertical-align: top;\n",
       "    }\n",
       "\n",
       "    .dataframe thead th {\n",
       "        text-align: right;\n",
       "    }\n",
       "</style>\n",
       "<table border=\"1\" class=\"dataframe\">\n",
       "  <thead>\n",
       "    <tr style=\"text-align: right;\">\n",
       "      <th></th>\n",
       "      <th>text</th>\n",
       "      <th>sentiment</th>\n",
       "      <th>positive</th>\n",
       "      <th>negative</th>\n",
       "    </tr>\n",
       "  </thead>\n",
       "  <tbody>\n",
       "    <tr>\n",
       "      <th>497</th>\n",
       "      <td>Highly recommended A+</td>\n",
       "      <td>1</td>\n",
       "      <td>0.400000</td>\n",
       "      <td>0.0</td>\n",
       "    </tr>\n",
       "    <tr>\n",
       "      <th>63</th>\n",
       "      <td>Brilliant!</td>\n",
       "      <td>1</td>\n",
       "      <td>0.333333</td>\n",
       "      <td>0.0</td>\n",
       "    </tr>\n",
       "    <tr>\n",
       "      <th>534</th>\n",
       "      <td>) a happy, wonderful, feel good ending!</td>\n",
       "      <td>1</td>\n",
       "      <td>0.333333</td>\n",
       "      <td>0.0</td>\n",
       "    </tr>\n",
       "    <tr>\n",
       "      <th>544</th>\n",
       "      <td>A very good film indeed, about great and uncon...</td>\n",
       "      <td>1</td>\n",
       "      <td>0.333333</td>\n",
       "      <td>0.0</td>\n",
       "    </tr>\n",
       "    <tr>\n",
       "      <th>734</th>\n",
       "      <td>;) Recommend with confidence!</td>\n",
       "      <td>1</td>\n",
       "      <td>0.333333</td>\n",
       "      <td>0.0</td>\n",
       "    </tr>\n",
       "  </tbody>\n",
       "</table>\n",
       "</div>"
      ],
      "text/plain": [
       "                                                  text  sentiment  positive  \\\n",
       "497                            Highly recommended A+            1  0.400000   \n",
       "63                                        Brilliant!            1  0.333333   \n",
       "534          ) a happy, wonderful, feel good ending!            1  0.333333   \n",
       "544  A very good film indeed, about great and uncon...          1  0.333333   \n",
       "734                    ;) Recommend with confidence!            1  0.333333   \n",
       "\n",
       "     negative  \n",
       "497       0.0  \n",
       "63        0.0  \n",
       "534       0.0  \n",
       "544       0.0  \n",
       "734       0.0  "
      ]
     },
     "execution_count": 9,
     "metadata": {},
     "output_type": "execute_result"
    }
   ],
   "source": [
    "# Sort values by most positive first\n",
    "imdb.sort_values(by=['positive'],ascending=False).head()"
   ]
  },
  {
   "cell_type": "code",
   "execution_count": 12,
   "metadata": {},
   "outputs": [
    {
     "data": {
      "text/html": [
       "<div>\n",
       "<style scoped>\n",
       "    .dataframe tbody tr th:only-of-type {\n",
       "        vertical-align: middle;\n",
       "    }\n",
       "\n",
       "    .dataframe tbody tr th {\n",
       "        vertical-align: top;\n",
       "    }\n",
       "\n",
       "    .dataframe thead th {\n",
       "        text-align: right;\n",
       "    }\n",
       "</style>\n",
       "<table border=\"1\" class=\"dataframe\">\n",
       "  <thead>\n",
       "    <tr style=\"text-align: right;\">\n",
       "      <th></th>\n",
       "      <th>text</th>\n",
       "      <th>sentiment</th>\n",
       "      <th>positive</th>\n",
       "      <th>negative</th>\n",
       "    </tr>\n",
       "  </thead>\n",
       "  <tbody>\n",
       "    <tr>\n",
       "      <th>0</th>\n",
       "      <td>So there is no way for me to plug it in here i...</td>\n",
       "      <td>0</td>\n",
       "      <td>0.00</td>\n",
       "      <td>0.000000</td>\n",
       "    </tr>\n",
       "    <tr>\n",
       "      <th>1</th>\n",
       "      <td>Good case, Excellent value.</td>\n",
       "      <td>1</td>\n",
       "      <td>0.50</td>\n",
       "      <td>0.000000</td>\n",
       "    </tr>\n",
       "    <tr>\n",
       "      <th>2</th>\n",
       "      <td>Great for the jawbone.</td>\n",
       "      <td>1</td>\n",
       "      <td>0.25</td>\n",
       "      <td>0.000000</td>\n",
       "    </tr>\n",
       "    <tr>\n",
       "      <th>3</th>\n",
       "      <td>Tied to charger for conversations lasting more...</td>\n",
       "      <td>0</td>\n",
       "      <td>0.00</td>\n",
       "      <td>0.090909</td>\n",
       "    </tr>\n",
       "    <tr>\n",
       "      <th>4</th>\n",
       "      <td>The mic is great.</td>\n",
       "      <td>1</td>\n",
       "      <td>0.25</td>\n",
       "      <td>0.000000</td>\n",
       "    </tr>\n",
       "  </tbody>\n",
       "</table>\n",
       "</div>"
      ],
      "text/plain": [
       "                                                text  sentiment  positive  \\\n",
       "0  So there is no way for me to plug it in here i...          0      0.00   \n",
       "1                        Good case, Excellent value.          1      0.50   \n",
       "2                             Great for the jawbone.          1      0.25   \n",
       "3  Tied to charger for conversations lasting more...          0      0.00   \n",
       "4                                  The mic is great.          1      0.25   \n",
       "\n",
       "   negative  \n",
       "0  0.000000  \n",
       "1  0.000000  \n",
       "2  0.000000  \n",
       "3  0.090909  \n",
       "4  0.000000  "
      ]
     },
     "execution_count": 12,
     "metadata": {},
     "output_type": "execute_result"
    }
   ],
   "source": [
    "# Load the amazon dataset\n",
    "amazon = pd.read_csv(r'sentiment labelled sentences\\amazon_cells_labelled.txt', delimiter= '\\t', header=None)\n",
    "amazon.columns = ['text', 'sentiment']\n",
    "amazon.head()\n",
    "\n",
    "\n",
    "# Apply percent_positive to the text column in our dataframe\n",
    "amazon['positive'] = amazon['text'].apply(percent_positive)\n",
    "\n",
    "\n",
    "# Apply percent_negative to the text column in our dataframe\n",
    "amazon['negative'] = amazon['text'].apply(percent_negative)\n",
    "\n",
    "amazon.head()"
   ]
  },
  {
   "cell_type": "markdown",
   "metadata": {},
   "source": [
    "# Training & Prediction"
   ]
  },
  {
   "cell_type": "markdown",
   "metadata": {},
   "source": [
    "Let us load a Bernoulli Naive Bayes model, train it on our IMDB data, and predict Amazon review sentiments with it:"
   ]
  },
  {
   "cell_type": "code",
   "execution_count": 13,
   "metadata": {},
   "outputs": [
    {
     "name": "stdout",
     "output_type": "stream",
     "text": [
      "Number of mislabeled points out of a total 1000 points : 159\n"
     ]
    }
   ],
   "source": [
    "# Initialize a model object\n",
    "classifier = BernoulliNB()\n",
    "\n",
    "# Fit our model to the data.\n",
    "classifier.fit(imdb[['positive','negative']], imdb['sentiment'])\n",
    "\n",
    "# Classify, storing the result in a new variable.\n",
    "y_pred = classifier.predict(amazon[['positive','negative']])\n",
    "\n",
    "# Display our results.\n",
    "print(\"Number of mislabeled points out of a total {} points : {}\".format(\n",
    "    amazon.shape[0],\n",
    "    (amazon['sentiment'] != y_pred).sum()\n",
    "))"
   ]
  },
  {
   "cell_type": "markdown",
   "metadata": {},
   "source": [
    "# Conclusion"
   ]
  },
  {
   "cell_type": "markdown",
   "metadata": {},
   "source": [
    "We are able to predict 841 out of a 1000 amazon review sentiments correctly when trained on IMDB reviews. "
   ]
  },
  {
   "cell_type": "code",
   "execution_count": null,
   "metadata": {},
   "outputs": [],
   "source": []
  }
 ],
 "metadata": {
  "kernelspec": {
   "display_name": "Python 3",
   "language": "python",
   "name": "python3"
  },
  "language_info": {
   "codemirror_mode": {
    "name": "ipython",
    "version": 3
   },
   "file_extension": ".py",
   "mimetype": "text/x-python",
   "name": "python",
   "nbconvert_exporter": "python",
   "pygments_lexer": "ipython3",
   "version": "3.7.3"
  }
 },
 "nbformat": 4,
 "nbformat_minor": 2
}
