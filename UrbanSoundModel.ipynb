{
 "cells": [
  {
   "cell_type": "markdown",
   "metadata": {},
   "source": [
    "### Import Libraries"
   ]
  },
  {
   "cell_type": "code",
   "execution_count": 1,
   "metadata": {},
   "outputs": [],
   "source": [
    "import pandas as pd\n",
    "import numpy as np\n",
    "import matplotlib.pyplot as plt\n",
    "%matplotlib inline\n",
    "import seaborn as sns\n",
    "current_palette = sns.color_palette()\n",
    "from timeit import default_timer as timer\n",
    "\n",
    "from sklearn.preprocessing import LabelBinarizer, StandardScaler, OneHotEncoder, LabelEncoder\n",
    "from sklearn.ensemble import RandomForestClassifier\n",
    "from sklearn.metrics import classification_report,confusion_matrix, roc_curve, auc\n",
    "\n",
    "import pickle\n",
    "import tensorflow as tf\n",
    "\n",
    "from tensorflow.keras.models import Sequential\n",
    "from tensorflow.keras.layers import Dense,Dropout,Activation\n",
    "from tensorflow.keras.callbacks import EarlyStopping\n",
    "from tensorflow.keras.models import load_model\n",
    "\n",
    "import warnings\n",
    "warnings.filterwarnings(\"ignore\")\n",
    "\n"
   ]
  },
  {
   "cell_type": "markdown",
   "metadata": {},
   "source": [
    "### Load the pre-processed data file"
   ]
  },
  {
   "cell_type": "code",
   "execution_count": 2,
   "metadata": {},
   "outputs": [],
   "source": [
    "mfcc_data = pickle.load(open('mfcc_data1.p', 'rb'))"
   ]
  },
  {
   "cell_type": "code",
   "execution_count": 3,
   "metadata": {},
   "outputs": [
    {
     "data": {
      "text/html": [
       "<div>\n",
       "<style scoped>\n",
       "    .dataframe tbody tr th:only-of-type {\n",
       "        vertical-align: middle;\n",
       "    }\n",
       "\n",
       "    .dataframe tbody tr th {\n",
       "        vertical-align: top;\n",
       "    }\n",
       "\n",
       "    .dataframe thead th {\n",
       "        text-align: right;\n",
       "    }\n",
       "</style>\n",
       "<table border=\"1\" class=\"dataframe\">\n",
       "  <thead>\n",
       "    <tr style=\"text-align: right;\">\n",
       "      <th></th>\n",
       "      <th>features</th>\n",
       "      <th>shape</th>\n",
       "      <th>label</th>\n",
       "      <th>fold</th>\n",
       "      <th>label_id</th>\n",
       "    </tr>\n",
       "  </thead>\n",
       "  <tbody>\n",
       "    <tr>\n",
       "      <th>0</th>\n",
       "      <td>[[-402.7856750488281, 92.73365020751953, 19.38...</td>\n",
       "      <td>(1, 217)</td>\n",
       "      <td>dog_bark</td>\n",
       "      <td>1</td>\n",
       "      <td>3</td>\n",
       "    </tr>\n",
       "    <tr>\n",
       "      <th>1</th>\n",
       "      <td>[[-366.4703674316406, 126.4369125366211, 31.17...</td>\n",
       "      <td>(1, 217)</td>\n",
       "      <td>dog_bark</td>\n",
       "      <td>1</td>\n",
       "      <td>3</td>\n",
       "    </tr>\n",
       "    <tr>\n",
       "      <th>2</th>\n",
       "      <td>[[-421.5273742675781, 69.03862762451172, 11.25...</td>\n",
       "      <td>(1, 217)</td>\n",
       "      <td>dog_bark</td>\n",
       "      <td>1</td>\n",
       "      <td>3</td>\n",
       "    </tr>\n",
       "    <tr>\n",
       "      <th>3</th>\n",
       "      <td>[[-253.19757080078125, 99.43791961669922, -42....</td>\n",
       "      <td>(1, 217)</td>\n",
       "      <td>dog_bark</td>\n",
       "      <td>1</td>\n",
       "      <td>3</td>\n",
       "    </tr>\n",
       "    <tr>\n",
       "      <th>4</th>\n",
       "      <td>[[-383.81011962890625, 128.45155334472656, 29....</td>\n",
       "      <td>(1, 217)</td>\n",
       "      <td>gun_shot</td>\n",
       "      <td>1</td>\n",
       "      <td>6</td>\n",
       "    </tr>\n",
       "  </tbody>\n",
       "</table>\n",
       "</div>"
      ],
      "text/plain": [
       "                                            features     shape     label  \\\n",
       "0  [[-402.7856750488281, 92.73365020751953, 19.38...  (1, 217)  dog_bark   \n",
       "1  [[-366.4703674316406, 126.4369125366211, 31.17...  (1, 217)  dog_bark   \n",
       "2  [[-421.5273742675781, 69.03862762451172, 11.25...  (1, 217)  dog_bark   \n",
       "3  [[-253.19757080078125, 99.43791961669922, -42....  (1, 217)  dog_bark   \n",
       "4  [[-383.81011962890625, 128.45155334472656, 29....  (1, 217)  gun_shot   \n",
       "\n",
       "   fold  label_id  \n",
       "0     1         3  \n",
       "1     1         3  \n",
       "2     1         3  \n",
       "3     1         3  \n",
       "4     1         6  "
      ]
     },
     "execution_count": 3,
     "metadata": {},
     "output_type": "execute_result"
    }
   ],
   "source": [
    "mfcc_data.head()"
   ]
  },
  {
   "cell_type": "code",
   "execution_count": 4,
   "metadata": {},
   "outputs": [
    {
     "data": {
      "text/html": [
       "<div>\n",
       "<style scoped>\n",
       "    .dataframe tbody tr th:only-of-type {\n",
       "        vertical-align: middle;\n",
       "    }\n",
       "\n",
       "    .dataframe tbody tr th {\n",
       "        vertical-align: top;\n",
       "    }\n",
       "\n",
       "    .dataframe thead th {\n",
       "        text-align: right;\n",
       "    }\n",
       "</style>\n",
       "<table border=\"1\" class=\"dataframe\">\n",
       "  <thead>\n",
       "    <tr style=\"text-align: right;\">\n",
       "      <th></th>\n",
       "      <th>fold</th>\n",
       "      <th>label_id</th>\n",
       "    </tr>\n",
       "    <tr>\n",
       "      <th>label</th>\n",
       "      <th></th>\n",
       "      <th></th>\n",
       "    </tr>\n",
       "  </thead>\n",
       "  <tbody>\n",
       "    <tr>\n",
       "      <th>air_conditioner</th>\n",
       "      <td>5.500000</td>\n",
       "      <td>0</td>\n",
       "    </tr>\n",
       "    <tr>\n",
       "      <th>car_horn</th>\n",
       "      <td>5.130841</td>\n",
       "      <td>1</td>\n",
       "    </tr>\n",
       "    <tr>\n",
       "      <th>children_playing</th>\n",
       "      <td>5.500000</td>\n",
       "      <td>2</td>\n",
       "    </tr>\n",
       "    <tr>\n",
       "      <th>dog_bark</th>\n",
       "      <td>5.500000</td>\n",
       "      <td>3</td>\n",
       "    </tr>\n",
       "    <tr>\n",
       "      <th>drilling</th>\n",
       "      <td>5.500000</td>\n",
       "      <td>4</td>\n",
       "    </tr>\n",
       "    <tr>\n",
       "      <th>engine_idling</th>\n",
       "      <td>5.399000</td>\n",
       "      <td>5</td>\n",
       "    </tr>\n",
       "    <tr>\n",
       "      <th>gun_shot</th>\n",
       "      <td>5.446524</td>\n",
       "      <td>6</td>\n",
       "    </tr>\n",
       "    <tr>\n",
       "      <th>jackhammer</th>\n",
       "      <td>5.062000</td>\n",
       "      <td>7</td>\n",
       "    </tr>\n",
       "    <tr>\n",
       "      <th>siren</th>\n",
       "      <td>5.204521</td>\n",
       "      <td>8</td>\n",
       "    </tr>\n",
       "    <tr>\n",
       "      <th>street_music</th>\n",
       "      <td>5.500000</td>\n",
       "      <td>9</td>\n",
       "    </tr>\n",
       "  </tbody>\n",
       "</table>\n",
       "</div>"
      ],
      "text/plain": [
       "                      fold  label_id\n",
       "label                               \n",
       "air_conditioner   5.500000         0\n",
       "car_horn          5.130841         1\n",
       "children_playing  5.500000         2\n",
       "dog_bark          5.500000         3\n",
       "drilling          5.500000         4\n",
       "engine_idling     5.399000         5\n",
       "gun_shot          5.446524         6\n",
       "jackhammer        5.062000         7\n",
       "siren             5.204521         8\n",
       "street_music      5.500000         9"
      ]
     },
     "execution_count": 4,
     "metadata": {},
     "output_type": "execute_result"
    }
   ],
   "source": [
    "a=mfcc_data.groupby('label')\n",
    "a.mean()"
   ]
  },
  {
   "cell_type": "code",
   "execution_count": 5,
   "metadata": {},
   "outputs": [
    {
     "data": {
      "text/plain": [
       "(8731, 5)"
      ]
     },
     "execution_count": 5,
     "metadata": {},
     "output_type": "execute_result"
    }
   ],
   "source": [
    "mfcc_data.shape"
   ]
  },
  {
   "cell_type": "code",
   "execution_count": 6,
   "metadata": {},
   "outputs": [],
   "source": [
    "# Use ravel to convert the features column to 1-D array, add sample column and delete featires column.\n",
    "feat_array = [mfcc_data['features'][i].ravel() for i in range(mfcc_data.shape[0])]\n",
    "mfcc_data['feature_data'] = pd.Series(feat_array, index=mfcc_data.index)"
   ]
  },
  {
   "cell_type": "code",
   "execution_count": 7,
   "metadata": {},
   "outputs": [
    {
     "name": "stdout",
     "output_type": "stream",
     "text": [
      "Index(['features', 'shape', 'label', 'fold', 'label_id', 'feature_data'], dtype='object')\n",
      "(8731, 6)\n"
     ]
    }
   ],
   "source": [
    "print(mfcc_data.columns)\n",
    "print(mfcc_data.shape)"
   ]
  },
  {
   "cell_type": "code",
   "execution_count": 8,
   "metadata": {},
   "outputs": [
    {
     "data": {
      "text/html": [
       "<div>\n",
       "<style scoped>\n",
       "    .dataframe tbody tr th:only-of-type {\n",
       "        vertical-align: middle;\n",
       "    }\n",
       "\n",
       "    .dataframe tbody tr th {\n",
       "        vertical-align: top;\n",
       "    }\n",
       "\n",
       "    .dataframe thead th {\n",
       "        text-align: right;\n",
       "    }\n",
       "</style>\n",
       "<table border=\"1\" class=\"dataframe\">\n",
       "  <thead>\n",
       "    <tr style=\"text-align: right;\">\n",
       "      <th></th>\n",
       "      <th>features</th>\n",
       "      <th>shape</th>\n",
       "      <th>label</th>\n",
       "      <th>fold</th>\n",
       "      <th>label_id</th>\n",
       "      <th>feature_data</th>\n",
       "    </tr>\n",
       "  </thead>\n",
       "  <tbody>\n",
       "    <tr>\n",
       "      <th>0</th>\n",
       "      <td>[[-402.7856750488281, 92.73365020751953, 19.38...</td>\n",
       "      <td>(1, 217)</td>\n",
       "      <td>dog_bark</td>\n",
       "      <td>1</td>\n",
       "      <td>3</td>\n",
       "      <td>[-402.7856750488281, 92.73365020751953, 19.382...</td>\n",
       "    </tr>\n",
       "    <tr>\n",
       "      <th>1</th>\n",
       "      <td>[[-366.4703674316406, 126.4369125366211, 31.17...</td>\n",
       "      <td>(1, 217)</td>\n",
       "      <td>dog_bark</td>\n",
       "      <td>1</td>\n",
       "      <td>3</td>\n",
       "      <td>[-366.4703674316406, 126.4369125366211, 31.174...</td>\n",
       "    </tr>\n",
       "    <tr>\n",
       "      <th>2</th>\n",
       "      <td>[[-421.5273742675781, 69.03862762451172, 11.25...</td>\n",
       "      <td>(1, 217)</td>\n",
       "      <td>dog_bark</td>\n",
       "      <td>1</td>\n",
       "      <td>3</td>\n",
       "      <td>[-421.5273742675781, 69.03862762451172, 11.259...</td>\n",
       "    </tr>\n",
       "    <tr>\n",
       "      <th>3</th>\n",
       "      <td>[[-253.19757080078125, 99.43791961669922, -42....</td>\n",
       "      <td>(1, 217)</td>\n",
       "      <td>dog_bark</td>\n",
       "      <td>1</td>\n",
       "      <td>3</td>\n",
       "      <td>[-253.19757080078125, 99.43791961669922, -42.0...</td>\n",
       "    </tr>\n",
       "    <tr>\n",
       "      <th>4</th>\n",
       "      <td>[[-383.81011962890625, 128.45155334472656, 29....</td>\n",
       "      <td>(1, 217)</td>\n",
       "      <td>gun_shot</td>\n",
       "      <td>1</td>\n",
       "      <td>6</td>\n",
       "      <td>[-383.81011962890625, 128.45155334472656, 29.3...</td>\n",
       "    </tr>\n",
       "  </tbody>\n",
       "</table>\n",
       "</div>"
      ],
      "text/plain": [
       "                                            features     shape     label  \\\n",
       "0  [[-402.7856750488281, 92.73365020751953, 19.38...  (1, 217)  dog_bark   \n",
       "1  [[-366.4703674316406, 126.4369125366211, 31.17...  (1, 217)  dog_bark   \n",
       "2  [[-421.5273742675781, 69.03862762451172, 11.25...  (1, 217)  dog_bark   \n",
       "3  [[-253.19757080078125, 99.43791961669922, -42....  (1, 217)  dog_bark   \n",
       "4  [[-383.81011962890625, 128.45155334472656, 29....  (1, 217)  gun_shot   \n",
       "\n",
       "   fold  label_id                                       feature_data  \n",
       "0     1         3  [-402.7856750488281, 92.73365020751953, 19.382...  \n",
       "1     1         3  [-366.4703674316406, 126.4369125366211, 31.174...  \n",
       "2     1         3  [-421.5273742675781, 69.03862762451172, 11.259...  \n",
       "3     1         3  [-253.19757080078125, 99.43791961669922, -42.0...  \n",
       "4     1         6  [-383.81011962890625, 128.45155334472656, 29.3...  "
      ]
     },
     "execution_count": 8,
     "metadata": {},
     "output_type": "execute_result"
    }
   ],
   "source": [
    "mfcc_data.head()"
   ]
  },
  {
   "cell_type": "code",
   "execution_count": 9,
   "metadata": {},
   "outputs": [
    {
     "data": {
      "text/plain": [
       "4     990\n",
       "5     936\n",
       "3     925\n",
       "2     888\n",
       "1     872\n",
       "7     838\n",
       "10    837\n",
       "6     823\n",
       "9     816\n",
       "8     806\n",
       "Name: fold, dtype: int64"
      ]
     },
     "execution_count": 9,
     "metadata": {},
     "output_type": "execute_result"
    }
   ],
   "source": [
    "mfcc_data['fold'].value_counts()"
   ]
  },
  {
   "cell_type": "code",
   "execution_count": 10,
   "metadata": {},
   "outputs": [
    {
     "name": "stdout",
     "output_type": "stream",
     "text": [
      "<class 'pandas.core.frame.DataFrame'>\n",
      "RangeIndex: 8731 entries, 0 to 8730\n",
      "Data columns (total 6 columns):\n",
      "features        8731 non-null object\n",
      "shape           8731 non-null object\n",
      "label           8731 non-null object\n",
      "fold            8731 non-null int64\n",
      "label_id        8731 non-null int32\n",
      "feature_data    8731 non-null object\n",
      "dtypes: int32(1), int64(1), object(4)\n",
      "memory usage: 375.2+ KB\n"
     ]
    }
   ],
   "source": [
    "mfcc_data.info()"
   ]
  },
  {
   "cell_type": "code",
   "execution_count": 11,
   "metadata": {
    "scrolled": true
   },
   "outputs": [
    {
     "data": {
      "text/html": [
       "<div>\n",
       "<style scoped>\n",
       "    .dataframe tbody tr th:only-of-type {\n",
       "        vertical-align: middle;\n",
       "    }\n",
       "\n",
       "    .dataframe tbody tr th {\n",
       "        vertical-align: top;\n",
       "    }\n",
       "\n",
       "    .dataframe thead th {\n",
       "        text-align: right;\n",
       "    }\n",
       "</style>\n",
       "<table border=\"1\" class=\"dataframe\">\n",
       "  <thead>\n",
       "    <tr style=\"text-align: right;\">\n",
       "      <th></th>\n",
       "      <th>label</th>\n",
       "      <th>feature_data</th>\n",
       "    </tr>\n",
       "  </thead>\n",
       "  <tbody>\n",
       "    <tr>\n",
       "      <th>0</th>\n",
       "      <td>dog_bark</td>\n",
       "      <td>[-402.7856750488281, 92.73365020751953, 19.382...</td>\n",
       "    </tr>\n",
       "    <tr>\n",
       "      <th>1</th>\n",
       "      <td>dog_bark</td>\n",
       "      <td>[-366.4703674316406, 126.4369125366211, 31.174...</td>\n",
       "    </tr>\n",
       "    <tr>\n",
       "      <th>2</th>\n",
       "      <td>dog_bark</td>\n",
       "      <td>[-421.5273742675781, 69.03862762451172, 11.259...</td>\n",
       "    </tr>\n",
       "    <tr>\n",
       "      <th>3</th>\n",
       "      <td>dog_bark</td>\n",
       "      <td>[-253.19757080078125, 99.43791961669922, -42.0...</td>\n",
       "    </tr>\n",
       "    <tr>\n",
       "      <th>4</th>\n",
       "      <td>gun_shot</td>\n",
       "      <td>[-383.81011962890625, 128.45155334472656, 29.3...</td>\n",
       "    </tr>\n",
       "  </tbody>\n",
       "</table>\n",
       "</div>"
      ],
      "text/plain": [
       "      label                                       feature_data\n",
       "0  dog_bark  [-402.7856750488281, 92.73365020751953, 19.382...\n",
       "1  dog_bark  [-366.4703674316406, 126.4369125366211, 31.174...\n",
       "2  dog_bark  [-421.5273742675781, 69.03862762451172, 11.259...\n",
       "3  dog_bark  [-253.19757080078125, 99.43791961669922, -42.0...\n",
       "4  gun_shot  [-383.81011962890625, 128.45155334472656, 29.3..."
      ]
     },
     "execution_count": 11,
     "metadata": {},
     "output_type": "execute_result"
    }
   ],
   "source": [
    "drop_cols = ['shape','label_id','fold','features']\n",
    "mfcc_df = mfcc_data.drop (drop_cols, axis=1)\n",
    "\n",
    "mfcc_df.head()"
   ]
  },
  {
   "cell_type": "code",
   "execution_count": 12,
   "metadata": {},
   "outputs": [
    {
     "data": {
      "text/plain": [
       "Index(['label', 'feature_data'], dtype='object')"
      ]
     },
     "execution_count": 12,
     "metadata": {},
     "output_type": "execute_result"
    }
   ],
   "source": [
    "mfcc_df.columns"
   ]
  },
  {
   "cell_type": "code",
   "execution_count": 13,
   "metadata": {},
   "outputs": [
    {
     "name": "stdout",
     "output_type": "stream",
     "text": [
      "working df shape: (8731, 218)\n"
     ]
    }
   ],
   "source": [
    "feature_df = list(mfcc_data['feature_data'])\n",
    "feature_df = pd.DataFrame(feature_df)\n",
    "data_cols = feature_df.columns\n",
    "\n",
    "feature_df['label'] = mfcc_data['label']\n",
    "print('working df shape:', feature_df.shape)\n"
   ]
  },
  {
   "cell_type": "code",
   "execution_count": 14,
   "metadata": {},
   "outputs": [],
   "source": [
    "# Convert label to class number\n",
    "le = LabelEncoder()\n",
    "label_id = le.fit_transform(feature_df[\"label\"])\n",
    "\n",
    "# one hot encode\n",
    "ohe = OneHotEncoder()\n",
    "onehot = ohe.fit_transform(label_id.reshape(-1, 1))\n",
    "\n",
    "for i in range(10):\n",
    "    feature_df[le.classes_[i]] = onehot[:,i].toarray()"
   ]
  },
  {
   "cell_type": "code",
   "execution_count": 15,
   "metadata": {},
   "outputs": [
    {
     "data": {
      "text/html": [
       "<div>\n",
       "<style scoped>\n",
       "    .dataframe tbody tr th:only-of-type {\n",
       "        vertical-align: middle;\n",
       "    }\n",
       "\n",
       "    .dataframe tbody tr th {\n",
       "        vertical-align: top;\n",
       "    }\n",
       "\n",
       "    .dataframe thead th {\n",
       "        text-align: right;\n",
       "    }\n",
       "</style>\n",
       "<table border=\"1\" class=\"dataframe\">\n",
       "  <thead>\n",
       "    <tr style=\"text-align: right;\">\n",
       "      <th></th>\n",
       "      <th>0</th>\n",
       "      <th>1</th>\n",
       "      <th>2</th>\n",
       "      <th>3</th>\n",
       "      <th>4</th>\n",
       "      <th>5</th>\n",
       "      <th>6</th>\n",
       "      <th>7</th>\n",
       "      <th>8</th>\n",
       "      <th>9</th>\n",
       "      <th>...</th>\n",
       "      <th>air_conditioner</th>\n",
       "      <th>car_horn</th>\n",
       "      <th>children_playing</th>\n",
       "      <th>dog_bark</th>\n",
       "      <th>drilling</th>\n",
       "      <th>engine_idling</th>\n",
       "      <th>gun_shot</th>\n",
       "      <th>jackhammer</th>\n",
       "      <th>siren</th>\n",
       "      <th>street_music</th>\n",
       "    </tr>\n",
       "  </thead>\n",
       "  <tbody>\n",
       "    <tr>\n",
       "      <th>0</th>\n",
       "      <td>-402.785675</td>\n",
       "      <td>92.733650</td>\n",
       "      <td>19.382502</td>\n",
       "      <td>-13.098002</td>\n",
       "      <td>-5.988058</td>\n",
       "      <td>2.662207</td>\n",
       "      <td>-15.008116</td>\n",
       "      <td>-7.915385</td>\n",
       "      <td>-9.553994</td>\n",
       "      <td>-6.019916</td>\n",
       "      <td>...</td>\n",
       "      <td>0.0</td>\n",
       "      <td>0.0</td>\n",
       "      <td>0.0</td>\n",
       "      <td>1.0</td>\n",
       "      <td>0.0</td>\n",
       "      <td>0.0</td>\n",
       "      <td>0.0</td>\n",
       "      <td>0.0</td>\n",
       "      <td>0.0</td>\n",
       "      <td>0.0</td>\n",
       "    </tr>\n",
       "    <tr>\n",
       "      <th>1</th>\n",
       "      <td>-366.470367</td>\n",
       "      <td>126.436913</td>\n",
       "      <td>31.174053</td>\n",
       "      <td>-23.376110</td>\n",
       "      <td>-13.181026</td>\n",
       "      <td>0.684522</td>\n",
       "      <td>-27.094633</td>\n",
       "      <td>-19.214334</td>\n",
       "      <td>-22.217587</td>\n",
       "      <td>-9.954311</td>\n",
       "      <td>...</td>\n",
       "      <td>0.0</td>\n",
       "      <td>0.0</td>\n",
       "      <td>0.0</td>\n",
       "      <td>1.0</td>\n",
       "      <td>0.0</td>\n",
       "      <td>0.0</td>\n",
       "      <td>0.0</td>\n",
       "      <td>0.0</td>\n",
       "      <td>0.0</td>\n",
       "      <td>0.0</td>\n",
       "    </tr>\n",
       "    <tr>\n",
       "      <th>2</th>\n",
       "      <td>-421.527374</td>\n",
       "      <td>69.038628</td>\n",
       "      <td>11.259903</td>\n",
       "      <td>-1.287744</td>\n",
       "      <td>2.871704</td>\n",
       "      <td>2.559121</td>\n",
       "      <td>-8.582845</td>\n",
       "      <td>-2.753539</td>\n",
       "      <td>-2.944310</td>\n",
       "      <td>-1.045367</td>\n",
       "      <td>...</td>\n",
       "      <td>0.0</td>\n",
       "      <td>0.0</td>\n",
       "      <td>0.0</td>\n",
       "      <td>1.0</td>\n",
       "      <td>0.0</td>\n",
       "      <td>0.0</td>\n",
       "      <td>0.0</td>\n",
       "      <td>0.0</td>\n",
       "      <td>0.0</td>\n",
       "      <td>0.0</td>\n",
       "    </tr>\n",
       "    <tr>\n",
       "      <th>3</th>\n",
       "      <td>-253.197571</td>\n",
       "      <td>99.437920</td>\n",
       "      <td>-42.032764</td>\n",
       "      <td>-13.843610</td>\n",
       "      <td>-9.055076</td>\n",
       "      <td>-6.101551</td>\n",
       "      <td>1.607488</td>\n",
       "      <td>-0.437223</td>\n",
       "      <td>7.403707</td>\n",
       "      <td>5.523297</td>\n",
       "      <td>...</td>\n",
       "      <td>0.0</td>\n",
       "      <td>0.0</td>\n",
       "      <td>0.0</td>\n",
       "      <td>1.0</td>\n",
       "      <td>0.0</td>\n",
       "      <td>0.0</td>\n",
       "      <td>0.0</td>\n",
       "      <td>0.0</td>\n",
       "      <td>0.0</td>\n",
       "      <td>0.0</td>\n",
       "    </tr>\n",
       "    <tr>\n",
       "      <th>4</th>\n",
       "      <td>-383.810120</td>\n",
       "      <td>128.451553</td>\n",
       "      <td>29.313246</td>\n",
       "      <td>18.846985</td>\n",
       "      <td>-6.675448</td>\n",
       "      <td>0.989596</td>\n",
       "      <td>-3.282265</td>\n",
       "      <td>6.314259</td>\n",
       "      <td>2.187165</td>\n",
       "      <td>5.393113</td>\n",
       "      <td>...</td>\n",
       "      <td>0.0</td>\n",
       "      <td>0.0</td>\n",
       "      <td>0.0</td>\n",
       "      <td>0.0</td>\n",
       "      <td>0.0</td>\n",
       "      <td>0.0</td>\n",
       "      <td>1.0</td>\n",
       "      <td>0.0</td>\n",
       "      <td>0.0</td>\n",
       "      <td>0.0</td>\n",
       "    </tr>\n",
       "  </tbody>\n",
       "</table>\n",
       "<p>5 rows × 228 columns</p>\n",
       "</div>"
      ],
      "text/plain": [
       "            0           1          2          3          4         5  \\\n",
       "0 -402.785675   92.733650  19.382502 -13.098002  -5.988058  2.662207   \n",
       "1 -366.470367  126.436913  31.174053 -23.376110 -13.181026  0.684522   \n",
       "2 -421.527374   69.038628  11.259903  -1.287744   2.871704  2.559121   \n",
       "3 -253.197571   99.437920 -42.032764 -13.843610  -9.055076 -6.101551   \n",
       "4 -383.810120  128.451553  29.313246  18.846985  -6.675448  0.989596   \n",
       "\n",
       "           6          7          8         9  ...  air_conditioner  car_horn  \\\n",
       "0 -15.008116  -7.915385  -9.553994 -6.019916  ...              0.0       0.0   \n",
       "1 -27.094633 -19.214334 -22.217587 -9.954311  ...              0.0       0.0   \n",
       "2  -8.582845  -2.753539  -2.944310 -1.045367  ...              0.0       0.0   \n",
       "3   1.607488  -0.437223   7.403707  5.523297  ...              0.0       0.0   \n",
       "4  -3.282265   6.314259   2.187165  5.393113  ...              0.0       0.0   \n",
       "\n",
       "   children_playing  dog_bark  drilling  engine_idling  gun_shot  jackhammer  \\\n",
       "0               0.0       1.0       0.0            0.0       0.0         0.0   \n",
       "1               0.0       1.0       0.0            0.0       0.0         0.0   \n",
       "2               0.0       1.0       0.0            0.0       0.0         0.0   \n",
       "3               0.0       1.0       0.0            0.0       0.0         0.0   \n",
       "4               0.0       0.0       0.0            0.0       1.0         0.0   \n",
       "\n",
       "   siren  street_music  \n",
       "0    0.0           0.0  \n",
       "1    0.0           0.0  \n",
       "2    0.0           0.0  \n",
       "3    0.0           0.0  \n",
       "4    0.0           0.0  \n",
       "\n",
       "[5 rows x 228 columns]"
      ]
     },
     "execution_count": 15,
     "metadata": {},
     "output_type": "execute_result"
    }
   ],
   "source": [
    "feature_df.head()"
   ]
  },
  {
   "cell_type": "markdown",
   "metadata": {},
   "source": [
    "### Create Train and Test datasets"
   ]
  },
  {
   "cell_type": "code",
   "execution_count": 16,
   "metadata": {},
   "outputs": [],
   "source": [
    "X = feature_df.loc[:,data_cols]\n",
    "Y = feature_df[feature_df.columns[-10:]]"
   ]
  },
  {
   "cell_type": "code",
   "execution_count": 17,
   "metadata": {},
   "outputs": [],
   "source": [
    "test_preds = {}\n",
    "X_train = X[0:7078].values\n",
    "X_test = X[7078:].values\n",
    "y_train = Y[0:7078].values\n",
    "y_test = Y[7078:].values\n",
    "\n"
   ]
  },
  {
   "cell_type": "code",
   "execution_count": 18,
   "metadata": {},
   "outputs": [
    {
     "data": {
      "text/plain": [
       "((7078, 217), (1653, 217), (7078, 10), (1653, 10))"
      ]
     },
     "execution_count": 18,
     "metadata": {},
     "output_type": "execute_result"
    }
   ],
   "source": [
    "X_train.shape, X_test.shape, y_train.shape, y_test.shape"
   ]
  },
  {
   "cell_type": "code",
   "execution_count": 19,
   "metadata": {},
   "outputs": [],
   "source": [
    "scaler = StandardScaler().fit(X_train)\n",
    "\n",
    "X_train = scaler.transform(X_train)\n",
    "X_test = scaler.transform(X_test)"
   ]
  },
  {
   "cell_type": "markdown",
   "metadata": {},
   "source": [
    "### Model Evaluation"
   ]
  },
  {
   "cell_type": "markdown",
   "metadata": {},
   "source": [
    "#### Model 1: Multilayer Preceptron"
   ]
  },
  {
   "cell_type": "code",
   "execution_count": 20,
   "metadata": {},
   "outputs": [],
   "source": [
    "#forming model\n",
    "model=Sequential()"
   ]
  },
  {
   "cell_type": "code",
   "execution_count": 21,
   "metadata": {},
   "outputs": [
    {
     "name": "stdout",
     "output_type": "stream",
     "text": [
      "WARNING:tensorflow:From C:\\Users\\rkalidindi\\AppData\\Local\\Continuum\\anaconda3\\lib\\site-packages\\tensorflow\\python\\ops\\init_ops.py:1251: calling VarianceScaling.__init__ (from tensorflow.python.ops.init_ops) with dtype is deprecated and will be removed in a future version.\n",
      "Instructions for updating:\n",
      "Call initializer instance with the dtype argument instead of passing it to the constructor\n"
     ]
    }
   ],
   "source": [
    "#building the model\n",
    "model.add(Dense(units=217,activation='relu'))\n",
    "model.add(Dropout(0.5))\n",
    "model.add(Dense(units=108,activation='relu'))\n",
    "model.add(Dropout(0.5))\n",
    "model.add(Dense(units=54,activation='relu'))\n",
    "model.add(Dropout(0.5))\n",
    "model.add(Dense(units=10,activation='softmax'))"
   ]
  },
  {
   "cell_type": "code",
   "execution_count": 22,
   "metadata": {},
   "outputs": [],
   "source": [
    "#compiling\n",
    "model.compile(optimizer='adam',loss='categorical_crossentropy',metrics=['accuracy'])\n",
    "early_stop = EarlyStopping(monitor='val_loss', mode = 'auto', verbose = 1, patience = 10)"
   ]
  },
  {
   "cell_type": "code",
   "execution_count": 23,
   "metadata": {},
   "outputs": [
    {
     "name": "stdout",
     "output_type": "stream",
     "text": [
      "Train on 7078 samples, validate on 1653 samples\n",
      "Epoch 1/60\n",
      "7078/7078 [==============================] - 1s 150us/sample - loss: 2.2824 - acc: 0.1852 - val_loss: 1.8719 - val_acc: 0.3938\n",
      "Epoch 2/60\n",
      "7078/7078 [==============================] - 1s 108us/sample - loss: 1.8385 - acc: 0.3589 - val_loss: 1.5139 - val_acc: 0.4852\n",
      "Epoch 3/60\n",
      "7078/7078 [==============================] - 1s 175us/sample - loss: 1.5416 - acc: 0.4724 - val_loss: 1.2982 - val_acc: 0.5898\n",
      "Epoch 4/60\n",
      "7078/7078 [==============================] - 1s 163us/sample - loss: 1.3180 - acc: 0.5622 - val_loss: 1.2130 - val_acc: 0.6146\n",
      "Epoch 5/60\n",
      "7078/7078 [==============================] - 1s 101us/sample - loss: 1.1972 - acc: 0.6177 - val_loss: 1.2472 - val_acc: 0.6364\n",
      "Epoch 6/60\n",
      "7078/7078 [==============================] - 2s 238us/sample - loss: 1.0757 - acc: 0.6537 - val_loss: 1.2181 - val_acc: 0.6425\n",
      "Epoch 7/60\n",
      "7078/7078 [==============================] - 1s 125us/sample - loss: 1.0263 - acc: 0.6835 - val_loss: 1.1939 - val_acc: 0.6407\n",
      "Epoch 8/60\n",
      "7078/7078 [==============================] - 1s 108us/sample - loss: 0.9220 - acc: 0.7200 - val_loss: 1.1670 - val_acc: 0.6461\n",
      "Epoch 9/60\n",
      "7078/7078 [==============================] - 1s 115us/sample - loss: 0.8803 - acc: 0.7327 - val_loss: 1.2413 - val_acc: 0.6485\n",
      "Epoch 10/60\n",
      "7078/7078 [==============================] - 1s 113us/sample - loss: 0.8138 - acc: 0.7553 - val_loss: 1.2676 - val_acc: 0.6413\n",
      "Epoch 11/60\n",
      "7078/7078 [==============================] - 1s 115us/sample - loss: 0.7956 - acc: 0.7663 - val_loss: 1.3382 - val_acc: 0.6388\n",
      "Epoch 12/60\n",
      "7078/7078 [==============================] - 1s 106us/sample - loss: 0.7405 - acc: 0.7826 - val_loss: 1.4442 - val_acc: 0.6310\n",
      "Epoch 13/60\n",
      "7078/7078 [==============================] - 1s 121us/sample - loss: 0.6868 - acc: 0.7984 - val_loss: 1.3805 - val_acc: 0.6558\n",
      "Epoch 14/60\n",
      "7078/7078 [==============================] - 1s 107us/sample - loss: 0.6582 - acc: 0.8038 - val_loss: 1.4532 - val_acc: 0.6382\n",
      "Epoch 15/60\n",
      "7078/7078 [==============================] - 1s 113us/sample - loss: 0.6244 - acc: 0.8176 - val_loss: 1.3894 - val_acc: 0.6443\n",
      "Epoch 16/60\n",
      "7078/7078 [==============================] - 1s 158us/sample - loss: 0.6142 - acc: 0.8187 - val_loss: 1.4450 - val_acc: 0.6503\n",
      "Epoch 17/60\n",
      "7078/7078 [==============================] - 1s 178us/sample - loss: 0.5865 - acc: 0.8248 - val_loss: 1.4726 - val_acc: 0.6449\n",
      "Epoch 18/60\n",
      "7078/7078 [==============================] - 1s 108us/sample - loss: 0.5463 - acc: 0.8378 - val_loss: 1.6900 - val_acc: 0.6636\n",
      "Epoch 00018: early stopping\n"
     ]
    },
    {
     "data": {
      "text/plain": [
       "<tensorflow.python.keras.callbacks.History at 0x159382d37b8>"
      ]
     },
     "execution_count": 23,
     "metadata": {},
     "output_type": "execute_result"
    }
   ],
   "source": [
    "#fitting\n",
    "model.fit(X_train,y_train,epochs=60,validation_data=(X_test,y_test), callbacks=[early_stop])"
   ]
  },
  {
   "cell_type": "code",
   "execution_count": 24,
   "metadata": {},
   "outputs": [
    {
     "data": {
      "text/plain": [
       "<matplotlib.axes._subplots.AxesSubplot at 0x159384d4c50>"
      ]
     },
     "execution_count": 24,
     "metadata": {},
     "output_type": "execute_result"
    },
    {
     "data": {
      "image/png": "[encoded data removed]",
      "text/plain": [
       "<Figure size 432x288 with 1 Axes>"
      ]
     },
     "metadata": {
      "needs_background": "light"
     },
     "output_type": "display_data"
    }
   ],
   "source": [
    "model_loss = pd.DataFrame(model.history.history)\n",
    "model_loss.plot()"
   ]
  },
  {
   "cell_type": "code",
   "execution_count": 31,
   "metadata": {},
   "outputs": [
    {
     "name": "stdout",
     "output_type": "stream",
     "text": [
      "1653/1653 [==============================] - 0s 40us/sample - loss: 1.6900 - acc: 0.6636\n"
     ]
    }
   ],
   "source": [
    "score = model.evaluate(X_test, y_test, batch_size=128)"
   ]
  },
  {
   "cell_type": "code",
   "execution_count": 25,
   "metadata": {},
   "outputs": [],
   "source": [
    "predictions = model.predict_classes(X_test)"
   ]
  },
  {
   "cell_type": "code",
   "execution_count": 26,
   "metadata": {},
   "outputs": [
    {
     "data": {
      "text/plain": [
       "array([4, 4, 4, ..., 7, 4, 4], dtype=int64)"
      ]
     },
     "execution_count": 26,
     "metadata": {},
     "output_type": "execute_result"
    }
   ],
   "source": [
    "predictions"
   ]
  },
  {
   "cell_type": "markdown",
   "metadata": {},
   "source": [
    "### Run sample test prediction"
   ]
  },
  {
   "cell_type": "code",
   "execution_count": 27,
   "metadata": {},
   "outputs": [
    {
     "data": {
      "text/html": [
       "<div>\n",
       "<style scoped>\n",
       "    .dataframe tbody tr th:only-of-type {\n",
       "        vertical-align: middle;\n",
       "    }\n",
       "\n",
       "    .dataframe tbody tr th {\n",
       "        vertical-align: top;\n",
       "    }\n",
       "\n",
       "    .dataframe thead th {\n",
       "        text-align: right;\n",
       "    }\n",
       "</style>\n",
       "<table border=\"1\" class=\"dataframe\">\n",
       "  <thead>\n",
       "    <tr style=\"text-align: right;\">\n",
       "      <th></th>\n",
       "      <th>label</th>\n",
       "      <th>air_conditioner</th>\n",
       "      <th>car_horn</th>\n",
       "      <th>children_playing</th>\n",
       "      <th>dog_bark</th>\n",
       "      <th>drilling</th>\n",
       "      <th>engine_idling</th>\n",
       "      <th>gun_shot</th>\n",
       "      <th>jackhammer</th>\n",
       "      <th>siren</th>\n",
       "      <th>street_music</th>\n",
       "    </tr>\n",
       "  </thead>\n",
       "  <tbody>\n",
       "    <tr>\n",
       "      <th>7078</th>\n",
       "      <td>air_conditioner</td>\n",
       "      <td>1.0</td>\n",
       "      <td>0.0</td>\n",
       "      <td>0.0</td>\n",
       "      <td>0.0</td>\n",
       "      <td>0.0</td>\n",
       "      <td>0.0</td>\n",
       "      <td>0.0</td>\n",
       "      <td>0.0</td>\n",
       "      <td>0.0</td>\n",
       "      <td>0.0</td>\n",
       "    </tr>\n",
       "  </tbody>\n",
       "</table>\n",
       "</div>"
      ],
      "text/plain": [
       "                label  air_conditioner  car_horn  children_playing  dog_bark  \\\n",
       "7078  air_conditioner              1.0       0.0               0.0       0.0   \n",
       "\n",
       "      drilling  engine_idling  gun_shot  jackhammer  siren  street_music  \n",
       "7078       0.0            0.0       0.0         0.0    0.0           0.0  "
      ]
     },
     "execution_count": 27,
     "metadata": {},
     "output_type": "execute_result"
    }
   ],
   "source": [
    "X_sample = feature_df.loc[:,data_cols]\n",
    "Y_actual = feature_df[feature_df.columns[-11:]]\n",
    "X_sample = X_sample.iloc[[7078]]\n",
    "Y_actual = Y_actual.iloc[[7078]]\n",
    "X_sample.head()\n",
    "\n",
    "Y_actual.head()"
   ]
  },
  {
   "cell_type": "code",
   "execution_count": 28,
   "metadata": {},
   "outputs": [],
   "source": [
    "Y_predict = model.predict_classes(X_sample)"
   ]
  },
  {
   "cell_type": "code",
   "execution_count": 29,
   "metadata": {},
   "outputs": [
    {
     "data": {
      "text/plain": [
       "array([3], dtype=int64)"
      ]
     },
     "execution_count": 29,
     "metadata": {},
     "output_type": "execute_result"
    }
   ],
   "source": [
    "Y_predict"
   ]
  },
  {
   "cell_type": "code",
   "execution_count": null,
   "metadata": {},
   "outputs": [],
   "source": []
  }
 ],
 "metadata": {
  "kernelspec": {
   "display_name": "Python 3",
   "language": "python",
   "name": "python3"
  },
  "language_info": {
   "codemirror_mode": {
    "name": "ipython",
    "version": 3
   },
   "file_extension": ".py",
   "mimetype": "text/x-python",
   "name": "python",
   "nbconvert_exporter": "python",
   "pygments_lexer": "ipython3",
   "version": "3.7.3"
  }
 },
 "nbformat": 4,
 "nbformat_minor": 2
}
