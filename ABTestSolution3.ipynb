{
 "cells": [
  {
   "cell_type": "markdown",
   "metadata": {},
   "source": [
    "## Assignments\n",
    "\n",
    "To help you find your bearings with regard to t-tests, calculate the t-values for the following numbers:\n",
    "\n",
    "1. $\\bar{y_1}= 5$, $\\bar{y_2}= 8$, $s_1= 1$, $s_2= 3$, $N_1= 200$, $N_2= 500$\n",
    "2. $\\bar{y_1}= 1090$, $\\bar{y_2}= 999$, $s_1= 400$, $s_2= 30$, $N_1= 900$, $N_2= 100$\n",
    "3. $\\bar{y_1}= 45$, $\\bar{y_2}= 40$, $s_1= 45$, $s_2= 40$, $N_1= 2000$, $N_2= 2000$"
   ]
  },
  {
   "cell_type": "code",
   "execution_count": 14,
   "metadata": {
    "run_control": {
     "frozen": false,
     "read_only": false
    }
   },
   "outputs": [],
   "source": [
    "import numpy as np\n",
    "import pandas as pd\n",
    "import matplotlib.pyplot as plt\n",
    "import seaborn as sns\n",
    "import scipy.stats as stats\n",
    "\n",
    "#Keeping the random data the same over multiple runs of the code.\n",
    "np.random.seed(42)\n",
    "\n",
    "#Storing our randomly generated data and labels.\n",
    "data = []\n",
    "groups = []\n",
    "labels_var = []\n",
    "labels_size = []\n",
    "\n",
    "#The values we use for the standard deviations and the sample sizes.\n",
    "variability = [45,40]\n",
    "sizes = [2000, 2000]\n",
    "\n",
    "#Generating data for each group for each combination of variability and sample size.\n",
    "for var in variability:\n",
    "    for size in sizes:\n",
    "        data.extend(np.random.normal(45,var,size))\n",
    "        data.extend(np.random.normal(40,var,size))\n",
    "        labels_var.extend([var]*size*2)\n",
    "        labels_size.extend([size]*size*2)\n",
    "        groups.extend(['group1']*size)\n",
    "        groups.extend(['group2']*size)\n"
   ]
  },
  {
   "cell_type": "code",
   "execution_count": 15,
   "metadata": {
    "run_control": {
     "frozen": false,
     "read_only": false
    }
   },
   "outputs": [
    {
     "name": "stdout",
     "output_type": "stream",
     "text": [
      "         data  groups  variability  size\n",
      "0   67.352137  group1           45  2000\n",
      "1   38.778106  group1           45  2000\n",
      "2   74.145984  group1           45  2000\n",
      "3  113.536344  group1           45  2000\n",
      "4   34.463098  group1           45  2000\n"
     ]
    }
   ],
   "source": [
    "#Putting the data together in a data frame and checking it.\n",
    "\n",
    "data = pd.DataFrame({'data': data, \n",
    "                     'groups' : groups,\n",
    "                    'variability':labels_var,\n",
    "                    'size':labels_size})\n",
    "print(data.head())\n",
    "\n"
   ]
  },
  {
   "cell_type": "code",
   "execution_count": 16,
   "metadata": {
    "run_control": {
     "frozen": false,
     "read_only": false
    }
   },
   "outputs": [
    {
     "data": {
      "image/png": "[encoded data removed]",
      "text/plain": [
       "<Figure size 216x432 with 2 Axes>"
      ]
     },
     "metadata": {},
     "output_type": "display_data"
    }
   ],
   "source": [
    "# Plotting the data.  \n",
    "# Because we organized the data frame in a stacked (long) format, the plotting code is very straightforward.\n",
    "sns.set_style('white')\n",
    "\n",
    "g = sns.FacetGrid(data, col=\"size\", row=\"variability\", hue='groups', sharex=False, sharey=False)\n",
    "g.map(plt.hist,'data')\n",
    "plt.show()"
   ]
  },
  {
   "cell_type": "code",
   "execution_count": 17,
   "metadata": {
    "run_control": {
     "frozen": false,
     "read_only": false
    }
   },
   "outputs": [],
   "source": [
    "# Setting the three non-data columns to work as multi-indices. \n",
    "# This makes it much easier to get subsections of stacked data.\n",
    "data_test = data.set_index(['groups','size','variability'])\n",
    "\n",
    "# Storing our t-values and p-values (we'll get to p-values in a sec).\n",
    "tvalues=[]\n",
    "pvalues=[]\n",
    "\n",
    "#For each combination of sample size and variability, compare the two groups using a t-test\n",
    "for size in sizes:\n",
    "    for var in variability:\n",
    "        a = data_test['data'].xs(('group1',size,var),level=('groups','size','variability'))\n",
    "        b = data_test['data'].xs(('group2',size,var),level=('groups','size','variability'))\n",
    "        tval,pval=stats.ttest_ind(b, a,equal_var=True)\n",
    "        tvalues.append(tval)\n",
    "        pvalues.append(pval)\n"
   ]
  },
  {
   "cell_type": "code",
   "execution_count": 18,
   "metadata": {
    "run_control": {
     "frozen": false,
     "read_only": false
    }
   },
   "outputs": [
    {
     "data": {
      "image/png": "[encoded data removed]",
      "text/plain": [
       "<Figure size 432x288 with 1 Axes>"
      ]
     },
     "metadata": {},
     "output_type": "display_data"
    },
    {
     "data": {
      "image/png": "[encoded data removed]",
      "text/plain": [
       "<Figure size 432x288 with 1 Axes>"
      ]
     },
     "metadata": {},
     "output_type": "display_data"
    }
   ],
   "source": [
    "#Creating a data frame for plotting purposes.\n",
    "tvalues_plot=pd.DataFrame({'t':tvalues,\n",
    "                           'p':pvalues,\n",
    "                          'variability':variability*2,\n",
    "                          'size':np.repeat(sizes,2)})\n",
    "\n",
    "# t-values by variability\n",
    "ax = sns.barplot(y='t',x='variability',ci=None,data=tvalues_plot)\n",
    "ax.set(ylabel='t-values',title='t-values by variability')\n",
    "plt.show()\n",
    "\n",
    "# t-values by sample size\n",
    "ax = sns.barplot(y='t',x='size',ci=None,data=tvalues_plot,palette='Set3')\n",
    "ax.set(ylabel='t-values',title='t-values by sample size')\n",
    "plt.show()"
   ]
  }
 ],
 "metadata": {
  "kernelspec": {
   "display_name": "Python 3",
   "language": "python",
   "name": "python3"
  },
  "language_info": {
   "codemirror_mode": {
    "name": "ipython",
    "version": 3
   },
   "file_extension": ".py",
   "mimetype": "text/x-python",
   "name": "python",
   "nbconvert_exporter": "python",
   "pygments_lexer": "ipython3",
   "version": "3.7.3"
  }
 },
 "nbformat": 4,
 "nbformat_minor": 2
}
