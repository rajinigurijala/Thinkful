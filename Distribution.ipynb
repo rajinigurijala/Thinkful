{
 "cells": [
  {
   "cell_type": "markdown",
   "metadata": {},
   "source": [
    "### Checkpoint ###\n",
    "Choose 6 distributions from the list of random distributions available in NumPy, called “Distributions”\n",
    "https://docs.scipy.org/doc/numpy/reference/random/legacy.html\n",
    "\n",
    "For each distribution:\n",
    "\n",
    "    \n",
    "    1. Generate a random variable with 100 datapoints using the code \n",
    "    distributionvar = np.random.distributionname([arguments], 100), replacing distributionvar with an \n",
    "    appropriate variable name and distributionname with the name of the distribution you’ve chosen, \n",
    "    and filling in the empty space in the parentheses with your chosen values for the appropriate \n",
    "    parameters. If you feel uncertain about how to do this, go back to the “Other Distributions” \n",
    "    assignment for examples of code to use as a starting point.\n",
    "    \n",
    "    2. Graph the variable using a histogram.\n",
    "    \n",
    "    3. Compute the mean and standard deviation and plot them as vertical lines on the histogram.\n",
    "    \n",
    "    4. Evaluate whether the descriptive statistics provided useful information about the variable. Can you \n",
    "    identify any common characteristics of the distributions that could be usefully described using the mean\n",
    "    and/or standard deviation, versus the ones that could not?"
   ]
  },
  {
   "cell_type": "code",
   "execution_count": 15,
   "metadata": {},
   "outputs": [
    {
     "data": {
      "image/png": "[encoded data removed]",
      "text/plain": [
       "<Figure size 432x288 with 1 Axes>"
      ]
     },
     "metadata": {
      "needs_background": "light"
     },
     "output_type": "display_data"
    }
   ],
   "source": [
    "import numpy as np\n",
    "import pandas as pd\n",
    "import matplotlib.pyplot as plt\n",
    "%matplotlib inline\n",
    "rand = np.random.normal(5, 20, 100)\n",
    "\n",
    "# Plotting the variables in the data frame (here, just the variable \"rand\") as a histogram.\n",
    "plt.hist(rand,bins=10, color='#abcdef')\n",
    "\n",
    "# Inline printing the histogram\n",
    "plt.show()"
   ]
  },
  {
   "cell_type": "markdown",
   "metadata": {},
   "source": [
    "### Additionally ###\n",
    "\n",
    "    1. Generate two normally-distributed variables, one with a mean of 5 and standard deviation of 0.5, and \n",
    "    the other with a mean of 10 and standard deviation of 1.\n",
    "    2. Add them together to create a third variable.\n",
    "    3. Graph the third variable using a histogram.\n",
    "    4. Compute the mean and standard deviation and plot them as vertical lines on the histogram.\n",
    "    5. Evaluate the descriptive statistics against the data."
   ]
  },
  {
   "cell_type": "code",
   "execution_count": 14,
   "metadata": {},
   "outputs": [
    {
     "data": {
      "image/png": "[encoded data removed]",
      "text/plain": [
       "<Figure size 432x288 with 1 Axes>"
      ]
     },
     "metadata": {
      "needs_background": "light"
     },
     "output_type": "display_data"
    }
   ],
   "source": [
    "# Making two variables.\n",
    "rand1 = np.random.normal(5, .5, 100)\n",
    "rand2 = np.random.normal(10,1, 100)\n",
    "\n",
    "# Add them together to create 3rd variable.\n",
    "rand3 = rand1 + rand2\n",
    "\n",
    "# Plotting the variables in the data frame (here, just the variable \"rand\") as a histogram.\n",
    "plt.hist(rand3,bins=10, color='#abcdef')\n",
    "\n",
    "# Add a vertical line at the mean.\n",
    "plt.axvline(rand3.mean(), color='r', linestyle='solid', linewidth=2)\n",
    "\n",
    "# Add a vertical line at one standard deviation above the mean.\n",
    "plt.axvline(rand3.mean() + rand3.std(), color='b', linestyle='dashed', linewidth=2)\n",
    "\n",
    "# Add a vertical line at one standard deviation below the mean.\n",
    "plt.axvline(rand3.mean()-rand3.std(), color='g', linestyle='dashed', linewidth=2) \n",
    "\n",
    "# Inline printing the histogram\n",
    "plt.show()\n"
   ]
  },
  {
   "cell_type": "code",
   "execution_count": null,
   "metadata": {},
   "outputs": [],
   "source": []
  }
 ],
 "metadata": {
  "kernelspec": {
   "display_name": "Python 3",
   "language": "python",
   "name": "python3"
  },
  "language_info": {
   "codemirror_mode": {
    "name": "ipython",
    "version": 3
   },
   "file_extension": ".py",
   "mimetype": "text/x-python",
   "name": "python",
   "nbconvert_exporter": "python",
   "pygments_lexer": "ipython3",
   "version": "3.7.3"
  }
 },
 "nbformat": 4,
 "nbformat_minor": 2
}
