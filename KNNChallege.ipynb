{
 "cells": [
  {
   "cell_type": "code",
   "execution_count": 16,
   "metadata": {},
   "outputs": [],
   "source": [
    "from itertools import permutations\n",
    "import matplotlib.pyplot as plt\n",
    "import numpy as np\n",
    "import pandas as pd\n",
    "from scipy.stats.mstats import winsorize\n",
    "from scipy.stats import boxcox, jarque_bera, normaltest\n",
    "import seaborn as sns\n",
    "from sklearn.linear_model import LinearRegression, Ridge, Lasso, ElasticNet, RidgeCV, LassoCV, ElasticNetCV\n",
    "from sklearn.model_selection import train_test_split\n",
    "from sklearn.metrics import mean_absolute_error\n",
    "import statsmodels.api as sm\n",
    "from statsmodels.tools.eval_measures import mse, rmse\n",
    "from sqlalchemy import create_engine\n",
    "from IPython.display import Markdown, display\n",
    "# Display preferences.\n",
    "%matplotlib inline\n",
    "pd.options.display.float_format = '{:.3f}'.format\n",
    "def printmd(string):\n",
    "    \"prints text in bold\"\n",
    "    display(Markdown(string))\n",
    "\n",
    "import warnings\n",
    "warnings.filterwarnings(action=\"ignore\")"
   ]
  },
  {
   "cell_type": "code",
   "execution_count": 17,
   "metadata": {},
   "outputs": [
    {
     "data": {
      "text/html": [
       "<div>\n",
       "<style scoped>\n",
       "    .dataframe tbody tr th:only-of-type {\n",
       "        vertical-align: middle;\n",
       "    }\n",
       "\n",
       "    .dataframe tbody tr th {\n",
       "        vertical-align: top;\n",
       "    }\n",
       "\n",
       "    .dataframe thead th {\n",
       "        text-align: right;\n",
       "    }\n",
       "</style>\n",
       "<table border=\"1\" class=\"dataframe\">\n",
       "  <thead>\n",
       "    <tr style=\"text-align: right;\">\n",
       "      <th></th>\n",
       "      <th>id</th>\n",
       "      <th>mssubclass</th>\n",
       "      <th>mszoning</th>\n",
       "      <th>lotfrontage</th>\n",
       "      <th>lotarea</th>\n",
       "      <th>street</th>\n",
       "      <th>alley</th>\n",
       "      <th>lotshape</th>\n",
       "      <th>landcontour</th>\n",
       "      <th>utilities</th>\n",
       "      <th>...</th>\n",
       "      <th>poolarea</th>\n",
       "      <th>poolqc</th>\n",
       "      <th>fence</th>\n",
       "      <th>miscfeature</th>\n",
       "      <th>miscval</th>\n",
       "      <th>mosold</th>\n",
       "      <th>yrsold</th>\n",
       "      <th>saletype</th>\n",
       "      <th>salecondition</th>\n",
       "      <th>saleprice</th>\n",
       "    </tr>\n",
       "  </thead>\n",
       "  <tbody>\n",
       "    <tr>\n",
       "      <th>0</th>\n",
       "      <td>1</td>\n",
       "      <td>60</td>\n",
       "      <td>RL</td>\n",
       "      <td>65.000</td>\n",
       "      <td>8450</td>\n",
       "      <td>Pave</td>\n",
       "      <td>None</td>\n",
       "      <td>Reg</td>\n",
       "      <td>Lvl</td>\n",
       "      <td>AllPub</td>\n",
       "      <td>...</td>\n",
       "      <td>0</td>\n",
       "      <td>None</td>\n",
       "      <td>None</td>\n",
       "      <td>None</td>\n",
       "      <td>0</td>\n",
       "      <td>2</td>\n",
       "      <td>2008</td>\n",
       "      <td>WD</td>\n",
       "      <td>Normal</td>\n",
       "      <td>208500</td>\n",
       "    </tr>\n",
       "    <tr>\n",
       "      <th>1</th>\n",
       "      <td>2</td>\n",
       "      <td>20</td>\n",
       "      <td>RL</td>\n",
       "      <td>80.000</td>\n",
       "      <td>9600</td>\n",
       "      <td>Pave</td>\n",
       "      <td>None</td>\n",
       "      <td>Reg</td>\n",
       "      <td>Lvl</td>\n",
       "      <td>AllPub</td>\n",
       "      <td>...</td>\n",
       "      <td>0</td>\n",
       "      <td>None</td>\n",
       "      <td>None</td>\n",
       "      <td>None</td>\n",
       "      <td>0</td>\n",
       "      <td>5</td>\n",
       "      <td>2007</td>\n",
       "      <td>WD</td>\n",
       "      <td>Normal</td>\n",
       "      <td>181500</td>\n",
       "    </tr>\n",
       "    <tr>\n",
       "      <th>2</th>\n",
       "      <td>3</td>\n",
       "      <td>60</td>\n",
       "      <td>RL</td>\n",
       "      <td>68.000</td>\n",
       "      <td>11250</td>\n",
       "      <td>Pave</td>\n",
       "      <td>None</td>\n",
       "      <td>IR1</td>\n",
       "      <td>Lvl</td>\n",
       "      <td>AllPub</td>\n",
       "      <td>...</td>\n",
       "      <td>0</td>\n",
       "      <td>None</td>\n",
       "      <td>None</td>\n",
       "      <td>None</td>\n",
       "      <td>0</td>\n",
       "      <td>9</td>\n",
       "      <td>2008</td>\n",
       "      <td>WD</td>\n",
       "      <td>Normal</td>\n",
       "      <td>223500</td>\n",
       "    </tr>\n",
       "    <tr>\n",
       "      <th>3</th>\n",
       "      <td>4</td>\n",
       "      <td>70</td>\n",
       "      <td>RL</td>\n",
       "      <td>60.000</td>\n",
       "      <td>9550</td>\n",
       "      <td>Pave</td>\n",
       "      <td>None</td>\n",
       "      <td>IR1</td>\n",
       "      <td>Lvl</td>\n",
       "      <td>AllPub</td>\n",
       "      <td>...</td>\n",
       "      <td>0</td>\n",
       "      <td>None</td>\n",
       "      <td>None</td>\n",
       "      <td>None</td>\n",
       "      <td>0</td>\n",
       "      <td>2</td>\n",
       "      <td>2006</td>\n",
       "      <td>WD</td>\n",
       "      <td>Abnorml</td>\n",
       "      <td>140000</td>\n",
       "    </tr>\n",
       "    <tr>\n",
       "      <th>4</th>\n",
       "      <td>5</td>\n",
       "      <td>60</td>\n",
       "      <td>RL</td>\n",
       "      <td>84.000</td>\n",
       "      <td>14260</td>\n",
       "      <td>Pave</td>\n",
       "      <td>None</td>\n",
       "      <td>IR1</td>\n",
       "      <td>Lvl</td>\n",
       "      <td>AllPub</td>\n",
       "      <td>...</td>\n",
       "      <td>0</td>\n",
       "      <td>None</td>\n",
       "      <td>None</td>\n",
       "      <td>None</td>\n",
       "      <td>0</td>\n",
       "      <td>12</td>\n",
       "      <td>2008</td>\n",
       "      <td>WD</td>\n",
       "      <td>Normal</td>\n",
       "      <td>250000</td>\n",
       "    </tr>\n",
       "  </tbody>\n",
       "</table>\n",
       "<p>5 rows × 81 columns</p>\n",
       "</div>"
      ],
      "text/plain": [
       "   id  mssubclass mszoning  lotfrontage  lotarea street alley lotshape  \\\n",
       "0   1          60       RL       65.000     8450   Pave  None      Reg   \n",
       "1   2          20       RL       80.000     9600   Pave  None      Reg   \n",
       "2   3          60       RL       68.000    11250   Pave  None      IR1   \n",
       "3   4          70       RL       60.000     9550   Pave  None      IR1   \n",
       "4   5          60       RL       84.000    14260   Pave  None      IR1   \n",
       "\n",
       "  landcontour utilities  ... poolarea poolqc fence miscfeature miscval mosold  \\\n",
       "0         Lvl    AllPub  ...        0   None  None        None       0      2   \n",
       "1         Lvl    AllPub  ...        0   None  None        None       0      5   \n",
       "2         Lvl    AllPub  ...        0   None  None        None       0      9   \n",
       "3         Lvl    AllPub  ...        0   None  None        None       0      2   \n",
       "4         Lvl    AllPub  ...        0   None  None        None       0     12   \n",
       "\n",
       "  yrsold  saletype  salecondition  saleprice  \n",
       "0   2008        WD         Normal     208500  \n",
       "1   2007        WD         Normal     181500  \n",
       "2   2008        WD         Normal     223500  \n",
       "3   2006        WD        Abnorml     140000  \n",
       "4   2008        WD         Normal     250000  \n",
       "\n",
       "[5 rows x 81 columns]"
      ]
     },
     "execution_count": 17,
     "metadata": {},
     "output_type": "execute_result"
    }
   ],
   "source": [
    "postgres_user = 'dsbc_student'\n",
    "postgres_pw = '7*.8G9QH21'\n",
    "postgres_host = '142.93.121.174'\n",
    "postgres_port = '5432'\n",
    "postgres_db = 'houseprices'\n",
    "\n",
    "engine = create_engine('postgresql://{}:{}@{}:{}/{}'.format(\n",
    "    postgres_user, postgres_pw, postgres_host, postgres_port, postgres_db))\n",
    "\n",
    "house_prices_df = pd.read_sql_query('select * from houseprices',con=engine)\n",
    "\n",
    "# no need for an open connection, as we're only doing a single query\n",
    "engine.dispose()\n",
    "\n",
    "house_prices_df.head(5)"
   ]
  },
  {
   "cell_type": "markdown",
   "metadata": {},
   "source": [
    "#### Missing Values\n",
    "\n",
    "Let us take a look at the missing data:"
   ]
  },
  {
   "cell_type": "code",
   "execution_count": 18,
   "metadata": {},
   "outputs": [
    {
     "data": {
      "text/markdown": [
       "**Missing value percentages:** Total values: 1460"
      ],
      "text/plain": [
       "<IPython.core.display.Markdown object>"
      ]
     },
     "metadata": {},
     "output_type": "display_data"
    },
    {
     "name": "stdout",
     "output_type": "stream",
     "text": [
      "poolqc         0.995\n",
      "miscfeature    0.963\n",
      "alley          0.938\n",
      "fence          0.808\n",
      "fireplacequ    0.473\n",
      "lotfrontage    0.177\n",
      "garagecond     0.055\n",
      "garagetype     0.055\n",
      "garageyrblt    0.055\n",
      "garagefinish   0.055\n",
      "garagequal     0.055\n",
      "bsmtexposure   0.026\n",
      "bsmtfintype2   0.026\n",
      "bsmtfintype1   0.025\n",
      "bsmtcond       0.025\n",
      "bsmtqual       0.025\n",
      "masvnrarea     0.005\n",
      "masvnrtype     0.005\n",
      "electrical     0.001\n",
      "dtype: float64 \n",
      "\n"
     ]
    }
   ],
   "source": [
    "#count missing values\n",
    "missing_vals = (house_prices_df.isnull().sum()/len(house_prices_df)).sort_values(ascending=False)\n",
    "\n",
    "# keep column names that do have them\n",
    "missing_vals = missing_vals[missing_vals > 0]\n",
    "\n",
    "printmd(\"**Missing value percentages:** Total values: {}\".format(len(house_prices_df)))\n",
    "print(missing_vals, '\\n')\n"
   ]
  },
  {
   "cell_type": "markdown",
   "metadata": {},
   "source": [
    "Let us drop the unnecessary columns based on the missing value percentages. i.e. poolqc, miscfeature, alley, fence, fireplacequ, lotfrontage.\n",
    "\n",
    "And later perform data cleaning."
   ]
  },
  {
   "cell_type": "code",
   "execution_count": 19,
   "metadata": {
    "scrolled": false
   },
   "outputs": [],
   "source": [
    "\n",
    "# Columns to be dropped\n",
    "drop_cols = missing_vals[:5].index.to_list()\n",
    "drop_cols.extend(['id'])\n",
    "\n",
    "# Columns for data cleaning\n",
    "data_clean_cols = {'garage':[i for i in missing_vals.index.to_list() if i.startswith('garage')],\n",
    "                 'basement':[i for i in missing_vals.index.to_list() if i.startswith('bsmt')],\n",
    "                 'etc':['masvnrarea','masvnrtype','electrical']}\n",
    "\n",
    "# Drop columns marked for removal and treat the NaN values\n",
    "house_prices_df.drop(columns=drop_cols, inplace=True)\n",
    "house_prices_df = house_prices_df.replace([np.inf, -np.inf], np.nan).dropna(how=\"all\")\n"
   ]
  },
  {
   "cell_type": "code",
   "execution_count": 20,
   "metadata": {},
   "outputs": [],
   "source": [
    "# Create a dictionary containing the value to replace missing values in each column\n",
    "fill_with = {'garageyrblt': 0, 'garagequal': 'TA', 'garagecond': 'TA', 'garagefinish': 'Unf','garagetype':'No',\n",
    "             'bsmtexposure':'No','bsmtfintype2':'Unf','bsmtfintype1':'Unf','bsmtqual':'TA','bsmtcond':'TA',\n",
    "             'masvnrarea':0,'masvnrtype':'None','electrical':'SBrkr'}\n",
    "house_prices_df = house_prices_df.fillna(value=fill_with)"
   ]
  },
  {
   "cell_type": "code",
   "execution_count": 21,
   "metadata": {},
   "outputs": [],
   "source": [
    "def classify_neighborhood(saleprice):\n",
    "    \"\"\" puts houses in preset neighborhood bins \"\"\"\n",
    "    \n",
    "    nbr_class = {0:'saleprice < 120000',\n",
    "                 1:'saleprice >= 120000 and saleprice < 200000',\n",
    "                 2:'saleprice >= 200000 and saleprice < 300000',\n",
    "                 3:'saleprice >= 300000'}\n",
    "    for class_level in nbr_class.keys():\n",
    "        if eval(nbr_class[class_level]):\n",
    "            return class_level\n",
    "\n",
    "house_prices_df['neighborhood_class'] = house_prices_df['saleprice'].apply(classify_neighborhood)"
   ]
  },
  {
   "cell_type": "code",
   "execution_count": 22,
   "metadata": {},
   "outputs": [
    {
     "name": "stdout",
     "output_type": "stream",
     "text": [
      "features (len: 4): {'neighborhood_class', 'grlivarea', 'overallqual', 'garagecars'}\n",
      "target: ['saleprice_log']\n"
     ]
    }
   ],
   "source": [
    "# Initial model prep\n",
    "temp_df = house_prices_df[['saleprice','overallqual','grlivarea','garagecars','neighborhood_class']]\n",
    "\n",
    "def log_prep(temp_df):\n",
    "    \"\"\"takes in the chosen temp_df for the model and outputs X & Y with saleprice log-transformed\"\"\"\n",
    "    \n",
    "    # Log-transform salesprice values & drop saleprice\n",
    "    temp_df['saleprice_log'] = np.log(temp_df['saleprice'])\n",
    "    temp_df.drop(columns=['saleprice'],inplace=True)\n",
    "    \n",
    "    # designate features\n",
    "    features = list(temp_df.columns)\n",
    "    features.remove('saleprice_log')\n",
    "    print('features (len: {}): {}\\ntarget: {}'.format(len(features),{i for i in features},list(set(set(temp_df.columns)-set(features)))))\n",
    "\n",
    "    # X & Y\n",
    "    X = temp_df[features]\n",
    "    Y = temp_df['saleprice_log']\n",
    "    return X,Y\n",
    "\n",
    "X, Y = log_prep(temp_df)"
   ]
  },
  {
   "cell_type": "code",
   "execution_count": 23,
   "metadata": {},
   "outputs": [],
   "source": [
    "X = sm.add_constant(X)\n",
    "\n",
    "X_train, X_test, y_train, y_test = train_test_split(X, Y, test_size = 0.2, random_state = 465)\n"
   ]
  },
  {
   "cell_type": "markdown",
   "metadata": {},
   "source": [
    "## OLS"
   ]
  },
  {
   "cell_type": "code",
   "execution_count": 24,
   "metadata": {},
   "outputs": [
    {
     "data": {
      "text/html": [
       "<div>\n",
       "<style scoped>\n",
       "    .dataframe tbody tr th:only-of-type {\n",
       "        vertical-align: middle;\n",
       "    }\n",
       "\n",
       "    .dataframe tbody tr th {\n",
       "        vertical-align: top;\n",
       "    }\n",
       "\n",
       "    .dataframe thead th {\n",
       "        text-align: right;\n",
       "    }\n",
       "</style>\n",
       "<table border=\"1\" class=\"dataframe\">\n",
       "  <thead>\n",
       "    <tr style=\"text-align: right;\">\n",
       "      <th></th>\n",
       "      <th>overallqual</th>\n",
       "      <th>grlivarea</th>\n",
       "      <th>garagecars</th>\n",
       "      <th>neighborhood_class</th>\n",
       "      <th>saleprice_log</th>\n",
       "    </tr>\n",
       "  </thead>\n",
       "  <tbody>\n",
       "    <tr>\n",
       "      <th>0</th>\n",
       "      <td>7</td>\n",
       "      <td>1710</td>\n",
       "      <td>2</td>\n",
       "      <td>2</td>\n",
       "      <td>12.248</td>\n",
       "    </tr>\n",
       "    <tr>\n",
       "      <th>1</th>\n",
       "      <td>6</td>\n",
       "      <td>1262</td>\n",
       "      <td>2</td>\n",
       "      <td>1</td>\n",
       "      <td>12.109</td>\n",
       "    </tr>\n",
       "    <tr>\n",
       "      <th>2</th>\n",
       "      <td>7</td>\n",
       "      <td>1786</td>\n",
       "      <td>2</td>\n",
       "      <td>2</td>\n",
       "      <td>12.317</td>\n",
       "    </tr>\n",
       "    <tr>\n",
       "      <th>3</th>\n",
       "      <td>7</td>\n",
       "      <td>1717</td>\n",
       "      <td>3</td>\n",
       "      <td>1</td>\n",
       "      <td>11.849</td>\n",
       "    </tr>\n",
       "    <tr>\n",
       "      <th>4</th>\n",
       "      <td>8</td>\n",
       "      <td>2198</td>\n",
       "      <td>3</td>\n",
       "      <td>2</td>\n",
       "      <td>12.429</td>\n",
       "    </tr>\n",
       "  </tbody>\n",
       "</table>\n",
       "</div>"
      ],
      "text/plain": [
       "   overallqual  grlivarea  garagecars  neighborhood_class  saleprice_log\n",
       "0            7       1710           2                   2         12.248\n",
       "1            6       1262           2                   1         12.109\n",
       "2            7       1786           2                   2         12.317\n",
       "3            7       1717           3                   1         11.849\n",
       "4            8       2198           3                   2         12.429"
      ]
     },
     "execution_count": 24,
     "metadata": {},
     "output_type": "execute_result"
    }
   ],
   "source": [
    "temp_df.head(5)"
   ]
  },
  {
   "cell_type": "code",
   "execution_count": 25,
   "metadata": {},
   "outputs": [
    {
     "data": {
      "text/html": [
       "<table class=\"simpletable\">\n",
       "<caption>OLS Regression Results</caption>\n",
       "<tr>\n",
       "  <th>Dep. Variable:</th>      <td>saleprice_log</td>  <th>  R-squared:         </th> <td>   0.898</td>\n",
       "</tr>\n",
       "<tr>\n",
       "  <th>Model:</th>                   <td>OLS</td>       <th>  Adj. R-squared:    </th> <td>   0.898</td>\n",
       "</tr>\n",
       "<tr>\n",
       "  <th>Method:</th>             <td>Least Squares</td>  <th>  F-statistic:       </th> <td>   2571.</td>\n",
       "</tr>\n",
       "<tr>\n",
       "  <th>Date:</th>             <td>Thu, 30 Jan 2020</td> <th>  Prob (F-statistic):</th>  <td>  0.00</td> \n",
       "</tr>\n",
       "<tr>\n",
       "  <th>Time:</th>                 <td>10:58:02</td>     <th>  Log-Likelihood:    </th> <td>  757.33</td>\n",
       "</tr>\n",
       "<tr>\n",
       "  <th>No. Observations:</th>      <td>  1168</td>      <th>  AIC:               </th> <td>  -1505.</td>\n",
       "</tr>\n",
       "<tr>\n",
       "  <th>Df Residuals:</th>          <td>  1163</td>      <th>  BIC:               </th> <td>  -1479.</td>\n",
       "</tr>\n",
       "<tr>\n",
       "  <th>Df Model:</th>              <td>     4</td>      <th>                     </th>     <td> </td>   \n",
       "</tr>\n",
       "<tr>\n",
       "  <th>Covariance Type:</th>      <td>nonrobust</td>    <th>                     </th>     <td> </td>   \n",
       "</tr>\n",
       "</table>\n",
       "<table class=\"simpletable\">\n",
       "<tr>\n",
       "           <td></td>             <th>coef</th>     <th>std err</th>      <th>t</th>      <th>P>|t|</th>  <th>[0.025</th>    <th>0.975]</th>  \n",
       "</tr>\n",
       "<tr>\n",
       "  <th>const</th>              <td>   11.0410</td> <td>    0.021</td> <td>  526.281</td> <td> 0.000</td> <td>   11.000</td> <td>   11.082</td>\n",
       "</tr>\n",
       "<tr>\n",
       "  <th>overallqual</th>        <td>    0.0618</td> <td>    0.004</td> <td>   13.968</td> <td> 0.000</td> <td>    0.053</td> <td>    0.070</td>\n",
       "</tr>\n",
       "<tr>\n",
       "  <th>grlivarea</th>          <td> 9.593e-05</td> <td> 9.39e-06</td> <td>   10.213</td> <td> 0.000</td> <td> 7.75e-05</td> <td>    0.000</td>\n",
       "</tr>\n",
       "<tr>\n",
       "  <th>garagecars</th>         <td>    0.0637</td> <td>    0.007</td> <td>    9.581</td> <td> 0.000</td> <td>    0.051</td> <td>    0.077</td>\n",
       "</tr>\n",
       "<tr>\n",
       "  <th>neighborhood_class</th> <td>    0.2907</td> <td>    0.008</td> <td>   37.601</td> <td> 0.000</td> <td>    0.276</td> <td>    0.306</td>\n",
       "</tr>\n",
       "</table>\n",
       "<table class=\"simpletable\">\n",
       "<tr>\n",
       "  <th>Omnibus:</th>       <td>344.637</td> <th>  Durbin-Watson:     </th> <td>   2.002</td>\n",
       "</tr>\n",
       "<tr>\n",
       "  <th>Prob(Omnibus):</th> <td> 0.000</td>  <th>  Jarque-Bera (JB):  </th> <td>1884.232</td>\n",
       "</tr>\n",
       "<tr>\n",
       "  <th>Skew:</th>          <td>-1.253</td>  <th>  Prob(JB):          </th> <td>    0.00</td>\n",
       "</tr>\n",
       "<tr>\n",
       "  <th>Kurtosis:</th>      <td> 8.695</td>  <th>  Cond. No.          </th> <td>9.45e+03</td>\n",
       "</tr>\n",
       "</table><br/><br/>Warnings:<br/>[1] Standard Errors assume that the covariance matrix of the errors is correctly specified.<br/>[2] The condition number is large, 9.45e+03. This might indicate that there are<br/>strong multicollinearity or other numerical problems."
      ],
      "text/plain": [
       "<class 'statsmodels.iolib.summary.Summary'>\n",
       "\"\"\"\n",
       "                            OLS Regression Results                            \n",
       "==============================================================================\n",
       "Dep. Variable:          saleprice_log   R-squared:                       0.898\n",
       "Model:                            OLS   Adj. R-squared:                  0.898\n",
       "Method:                 Least Squares   F-statistic:                     2571.\n",
       "Date:                Thu, 30 Jan 2020   Prob (F-statistic):               0.00\n",
       "Time:                        10:58:02   Log-Likelihood:                 757.33\n",
       "No. Observations:                1168   AIC:                            -1505.\n",
       "Df Residuals:                    1163   BIC:                            -1479.\n",
       "Df Model:                           4                                         \n",
       "Covariance Type:            nonrobust                                         \n",
       "======================================================================================\n",
       "                         coef    std err          t      P>|t|      [0.025      0.975]\n",
       "--------------------------------------------------------------------------------------\n",
       "const                 11.0410      0.021    526.281      0.000      11.000      11.082\n",
       "overallqual            0.0618      0.004     13.968      0.000       0.053       0.070\n",
       "grlivarea           9.593e-05   9.39e-06     10.213      0.000    7.75e-05       0.000\n",
       "garagecars             0.0637      0.007      9.581      0.000       0.051       0.077\n",
       "neighborhood_class     0.2907      0.008     37.601      0.000       0.276       0.306\n",
       "==============================================================================\n",
       "Omnibus:                      344.637   Durbin-Watson:                   2.002\n",
       "Prob(Omnibus):                  0.000   Jarque-Bera (JB):             1884.232\n",
       "Skew:                          -1.253   Prob(JB):                         0.00\n",
       "Kurtosis:                       8.695   Cond. No.                     9.45e+03\n",
       "==============================================================================\n",
       "\n",
       "Warnings:\n",
       "[1] Standard Errors assume that the covariance matrix of the errors is correctly specified.\n",
       "[2] The condition number is large, 9.45e+03. This might indicate that there are\n",
       "strong multicollinearity or other numerical problems.\n",
       "\"\"\""
      ]
     },
     "execution_count": 25,
     "metadata": {},
     "output_type": "execute_result"
    }
   ],
   "source": [
    "results = sm.OLS(y_train, X_train).fit()\n",
    "results.summary()"
   ]
  },
  {
   "cell_type": "code",
   "execution_count": 26,
   "metadata": {},
   "outputs": [
    {
     "data": {
      "image/png": "[encoded data removed]",
      "text/plain": [
       "<Figure size 432x288 with 1 Axes>"
      ]
     },
     "metadata": {
      "needs_background": "light"
     },
     "output_type": "display_data"
    },
    {
     "name": "stdout",
     "output_type": "stream",
     "text": [
      "OLS MODEL ERRORS\n",
      "**********************************\n",
      "Mean absolute error of the prediction is: 0.10166887563600831\n",
      "Mean squared error of the prediction is: 0.018753568360448822\n",
      "Root mean squared error of the prediction is: 0.1369436685664906\n",
      "Mean absolute percentage error of the prediction is: 0.8515401970633499\n"
     ]
    }
   ],
   "source": [
    "# predict house prices using test set\n",
    "y_preds = results.predict(X_test)\n",
    "plt.scatter(y_test, y_preds)\n",
    "plt.plot(y_test, y_test)\n",
    "plt.xlabel(\"true values\")\n",
    "plt.ylabel(\"predicted values\")\n",
    "plt.title(\"House prices: true vs. predicted values\")\n",
    "plt.show()\n",
    "print(\"OLS MODEL ERRORS\\n**********************************\")\n",
    "print(\"Mean absolute error of the prediction is: {}\".format(mean_absolute_error(y_test, y_preds)))\n",
    "print(\"Mean squared error of the prediction is: {}\".format(mse(y_test, y_preds)))\n",
    "print(\"Root mean squared error of the prediction is: {}\".format(rmse(y_test, y_preds)))\n",
    "print(\"Mean absolute percentage error of the prediction is: {}\".format(np.mean(np.abs((y_test - y_preds) / y_test)) * 100))"
   ]
  },
  {
   "cell_type": "markdown",
   "metadata": {},
   "source": [
    "## KNN"
   ]
  },
  {
   "cell_type": "code",
   "execution_count": 27,
   "metadata": {},
   "outputs": [
    {
     "data": {
      "image/png": "[encoded data removed]",
      "text/plain": [
       "<Figure size 432x288 with 1 Axes>"
      ]
     },
     "metadata": {
      "needs_background": "light"
     },
     "output_type": "display_data"
    },
    {
     "name": "stdout",
     "output_type": "stream",
     "text": [
      "KNN MODEL ERRORS\n",
      "**********************************\n",
      "Mean absolute error of the prediction is: 0.18667369346256013\n",
      "Mean squared error of the prediction is: 0.06173326703769544\n",
      "Root mean squared error of the prediction is: 0.2484618019690259\n",
      "Mean absolute percentage error of the prediction is: 1.555641900018148\n",
      "********************\n"
     ]
    }
   ],
   "source": [
    "from sklearn import neighbors\n",
    "from sklearn.neighbors import KNeighborsRegressor\n",
    "from sklearn.model_selection import train_test_split, cross_val_score, GridSearchCV\n",
    "\n",
    "# KNN Regressor\n",
    "gridOv_params = {'n_neighbors':[6],\n",
    "                 'weights':['distance'],\n",
    "                 'algorithm' : ['auto'],\n",
    "                 'leaf_size':[5],\n",
    "                 'metric':['euclidean'],\n",
    "                 'n_jobs':[-1]\n",
    "                }\n",
    "knn_results = GridSearchCV(KNeighborsRegressor(),param_grid=gridOv_params,n_jobs=-1)\n",
    "knn_results.fit(X_train,y_train)\n",
    "gridOv_params = knn_results.best_params_\n",
    "knn_results = KNeighborsRegressor(algorithm=gridOv_params['algorithm'],\n",
    "                           leaf_size=gridOv_params['leaf_size'],\n",
    "                           metric=gridOv_params['metric'],\n",
    "                           n_jobs=gridOv_params['n_jobs'],\n",
    "                           n_neighbors=gridOv_params['n_neighbors'],\n",
    "                           weights=gridOv_params['weights'])\n",
    "knn_results.fit(X_train,y_train)\n",
    "\n",
    "y_preds = knn_results.predict(X_test)\n",
    "\n",
    "# plot results against actual values\n",
    "plt.scatter(y_test, y_preds)\n",
    "plt.plot(y_test, y_test)\n",
    "plt.xlabel(\"true values\")\n",
    "plt.ylabel(\"predicted values\")\n",
    "plt.title(\"House prices: true vs. predicted values\")\n",
    "plt.show()\n",
    "# Measure model errors\n",
    "print(\"KNN MODEL ERRORS\\n**********************************\")\n",
    "print(\"Mean absolute error of the prediction is: {}\".format(mean_absolute_error(y_test, y_preds)))\n",
    "print(\"Mean squared error of the prediction is: {}\".format(mse(y_test, y_preds)))\n",
    "print(\"Root mean squared error of the prediction is: {}\".format(rmse(y_test, y_preds)))\n",
    "print(\"Mean absolute percentage error of the prediction is: {}\".format(np.mean(np.abs((y_test - y_preds) / y_test)) * 100))\n",
    "print(('*'*20))"
   ]
  },
  {
   "cell_type": "code",
   "execution_count": 30,
   "metadata": {},
   "outputs": [
    {
     "data": {
      "image/png": "[encoded data removed]",
      "text/plain": [
       "<Figure size 432x288 with 1 Axes>"
      ]
     },
     "metadata": {
      "needs_background": "light"
     },
     "output_type": "display_data"
    },
    {
     "name": "stdout",
     "output_type": "stream",
     "text": [
      "ELASTICNET MODEL ERRORS\n",
      "**********************************\n",
      "Mean absolute error of the prediction is: 0.10156825056141441\n",
      "Mean squared error of the prediction is: 0.018745826552664602\n",
      "Root mean squared error of the prediction is: 0.13691539925320526\n",
      "Mean absolute percentage error of the prediction is: 0.8507002093029996\n"
     ]
    }
   ],
   "source": [
    "elasticregr = ElasticNet(alpha=0.001, l1_ratio=0.5) \n",
    "elasticregr.fit(X_train, y_train)\n",
    "\n",
    "# We are making predictions here\n",
    "y_preds_train = elasticregr.predict(X_train)\n",
    "y_preds_test = elasticregr.predict(X_test)\n",
    "\n",
    "# plot results against actual values\n",
    "plt.scatter(y_test, y_preds_test)\n",
    "plt.plot(y_test, y_test)\n",
    "plt.xlabel(\"true values\")\n",
    "plt.ylabel(\"predicted values\")\n",
    "plt.title(\"House prices: true vs. predicted values\")\n",
    "plt.show()\n",
    "\n",
    "print(\"ELASTICNET MODEL ERRORS\\n**********************************\")\n",
    "print(\"Mean absolute error of the prediction is: {}\".format(mean_absolute_error(y_test, y_preds_test)))\n",
    "print(\"Mean squared error of the prediction is: {}\".format(mse(y_test, y_preds_test)))\n",
    "print(\"Root mean squared error of the prediction is: {}\".format(rmse(y_test, y_preds_test)))\n",
    "print(\"Mean absolute percentage error of the prediction is: {}\".format(np.mean(np.abs((y_test - y_preds_test) / y_test)) * 100))"
   ]
  },
  {
   "cell_type": "code",
   "execution_count": null,
   "metadata": {},
   "outputs": [],
   "source": []
  }
 ],
 "metadata": {
  "kernelspec": {
   "display_name": "Python 3",
   "language": "python",
   "name": "python3"
  },
  "language_info": {
   "codemirror_mode": {
    "name": "ipython",
    "version": 3
   },
   "file_extension": ".py",
   "mimetype": "text/x-python",
   "name": "python",
   "nbconvert_exporter": "python",
   "pygments_lexer": "ipython3",
   "version": "3.7.3"
  }
 },
 "nbformat": 4,
 "nbformat_minor": 2
}
